{
 "cells": [
  {
   "cell_type": "markdown",
   "id": "greek-poultry",
   "metadata": {
    "papermill": {
     "duration": 0.03786,
     "end_time": "2021-06-11T19:09:33.397757",
     "exception": false,
     "start_time": "2021-06-11T19:09:33.359897",
     "status": "completed"
    },
    "tags": []
   },
   "source": [
    "# importing necessary libraries"
   ]
  },
  {
   "cell_type": "code",
   "execution_count": 1,
   "id": "freelance-communication",
   "metadata": {
    "execution": {
     "iopub.execute_input": "2021-06-11T19:09:33.478944Z",
     "iopub.status.busy": "2021-06-11T19:09:33.478331Z",
     "iopub.status.idle": "2021-06-11T19:09:34.492295Z",
     "shell.execute_reply": "2021-06-11T19:09:34.491652Z",
     "shell.execute_reply.started": "2021-06-11T19:07:41.868624Z"
    },
    "papermill": {
     "duration": 1.05814,
     "end_time": "2021-06-11T19:09:34.492456",
     "exception": false,
     "start_time": "2021-06-11T19:09:33.434316",
     "status": "completed"
    },
    "tags": []
   },
   "outputs": [],
   "source": [
    "import pandas as pd\n",
    "import numpy as np\n",
    "import matplotlib.pyplot as plt\n",
    "import seaborn as sns\n",
    "%matplotlib inline"
   ]
  },
  {
   "cell_type": "markdown",
   "id": "billion-delaware",
   "metadata": {
    "papermill": {
     "duration": 0.037469,
     "end_time": "2021-06-11T19:09:34.566412",
     "exception": false,
     "start_time": "2021-06-11T19:09:34.528943",
     "status": "completed"
    },
    "tags": []
   },
   "source": [
    "# loading csv file"
   ]
  },
  {
   "cell_type": "code",
   "execution_count": 2,
   "id": "useful-silicon",
   "metadata": {
    "execution": {
     "iopub.execute_input": "2021-06-11T19:09:34.644078Z",
     "iopub.status.busy": "2021-06-11T19:09:34.643475Z",
     "iopub.status.idle": "2021-06-11T19:09:34.663278Z",
     "shell.execute_reply": "2021-06-11T19:09:34.662669Z",
     "shell.execute_reply.started": "2021-06-11T19:07:41.880901Z"
    },
    "papermill": {
     "duration": 0.060476,
     "end_time": "2021-06-11T19:09:34.663426",
     "exception": false,
     "start_time": "2021-06-11T19:09:34.602950",
     "status": "completed"
    },
    "tags": []
   },
   "outputs": [],
   "source": [
    "df = pd.read_csv(\"../input/parkinsonsdataset/parkinsons.csv\")"
   ]
  },
  {
   "cell_type": "markdown",
   "id": "pressed-robinson",
   "metadata": {
    "papermill": {
     "duration": 0.035328,
     "end_time": "2021-06-11T19:09:34.735194",
     "exception": false,
     "start_time": "2021-06-11T19:09:34.699866",
     "status": "completed"
    },
    "tags": []
   },
   "source": [
    "# knowing data"
   ]
  },
  {
   "cell_type": "code",
   "execution_count": 3,
   "id": "vanilla-organic",
   "metadata": {
    "execution": {
     "iopub.execute_input": "2021-06-11T19:09:34.833274Z",
     "iopub.status.busy": "2021-06-11T19:09:34.832621Z",
     "iopub.status.idle": "2021-06-11T19:09:34.859384Z",
     "shell.execute_reply": "2021-06-11T19:09:34.858813Z",
     "shell.execute_reply.started": "2021-06-11T19:07:41.909763Z"
    },
    "papermill": {
     "duration": 0.088668,
     "end_time": "2021-06-11T19:09:34.859515",
     "exception": false,
     "start_time": "2021-06-11T19:09:34.770847",
     "status": "completed"
    },
    "tags": []
   },
   "outputs": [
    {
     "data": {
      "text/html": [
       "<div>\n",
       "<style scoped>\n",
       "    .dataframe tbody tr th:only-of-type {\n",
       "        vertical-align: middle;\n",
       "    }\n",
       "\n",
       "    .dataframe tbody tr th {\n",
       "        vertical-align: top;\n",
       "    }\n",
       "\n",
       "    .dataframe thead th {\n",
       "        text-align: right;\n",
       "    }\n",
       "</style>\n",
       "<table border=\"1\" class=\"dataframe\">\n",
       "  <thead>\n",
       "    <tr style=\"text-align: right;\">\n",
       "      <th></th>\n",
       "      <th>name</th>\n",
       "      <th>MDVP:Fo(Hz)</th>\n",
       "      <th>MDVP:Fhi(Hz)</th>\n",
       "      <th>MDVP:Flo(Hz)</th>\n",
       "      <th>MDVP:Jitter(%)</th>\n",
       "      <th>MDVP:Jitter(Abs)</th>\n",
       "      <th>MDVP:RAP</th>\n",
       "      <th>MDVP:PPQ</th>\n",
       "      <th>Jitter:DDP</th>\n",
       "      <th>MDVP:Shimmer</th>\n",
       "      <th>...</th>\n",
       "      <th>Shimmer:DDA</th>\n",
       "      <th>NHR</th>\n",
       "      <th>HNR</th>\n",
       "      <th>status</th>\n",
       "      <th>RPDE</th>\n",
       "      <th>DFA</th>\n",
       "      <th>spread1</th>\n",
       "      <th>spread2</th>\n",
       "      <th>D2</th>\n",
       "      <th>PPE</th>\n",
       "    </tr>\n",
       "  </thead>\n",
       "  <tbody>\n",
       "    <tr>\n",
       "      <th>0</th>\n",
       "      <td>phon_R01_S01_1</td>\n",
       "      <td>119.992</td>\n",
       "      <td>157.302</td>\n",
       "      <td>74.997</td>\n",
       "      <td>0.00784</td>\n",
       "      <td>0.00007</td>\n",
       "      <td>0.00370</td>\n",
       "      <td>0.00554</td>\n",
       "      <td>0.01109</td>\n",
       "      <td>0.04374</td>\n",
       "      <td>...</td>\n",
       "      <td>0.06545</td>\n",
       "      <td>0.02211</td>\n",
       "      <td>21.033</td>\n",
       "      <td>1</td>\n",
       "      <td>0.414783</td>\n",
       "      <td>0.815285</td>\n",
       "      <td>-4.813031</td>\n",
       "      <td>0.266482</td>\n",
       "      <td>2.301442</td>\n",
       "      <td>0.284654</td>\n",
       "    </tr>\n",
       "    <tr>\n",
       "      <th>1</th>\n",
       "      <td>phon_R01_S01_2</td>\n",
       "      <td>122.400</td>\n",
       "      <td>148.650</td>\n",
       "      <td>113.819</td>\n",
       "      <td>0.00968</td>\n",
       "      <td>0.00008</td>\n",
       "      <td>0.00465</td>\n",
       "      <td>0.00696</td>\n",
       "      <td>0.01394</td>\n",
       "      <td>0.06134</td>\n",
       "      <td>...</td>\n",
       "      <td>0.09403</td>\n",
       "      <td>0.01929</td>\n",
       "      <td>19.085</td>\n",
       "      <td>1</td>\n",
       "      <td>0.458359</td>\n",
       "      <td>0.819521</td>\n",
       "      <td>-4.075192</td>\n",
       "      <td>0.335590</td>\n",
       "      <td>2.486855</td>\n",
       "      <td>0.368674</td>\n",
       "    </tr>\n",
       "    <tr>\n",
       "      <th>2</th>\n",
       "      <td>phon_R01_S01_3</td>\n",
       "      <td>116.682</td>\n",
       "      <td>131.111</td>\n",
       "      <td>111.555</td>\n",
       "      <td>0.01050</td>\n",
       "      <td>0.00009</td>\n",
       "      <td>0.00544</td>\n",
       "      <td>0.00781</td>\n",
       "      <td>0.01633</td>\n",
       "      <td>0.05233</td>\n",
       "      <td>...</td>\n",
       "      <td>0.08270</td>\n",
       "      <td>0.01309</td>\n",
       "      <td>20.651</td>\n",
       "      <td>1</td>\n",
       "      <td>0.429895</td>\n",
       "      <td>0.825288</td>\n",
       "      <td>-4.443179</td>\n",
       "      <td>0.311173</td>\n",
       "      <td>2.342259</td>\n",
       "      <td>0.332634</td>\n",
       "    </tr>\n",
       "    <tr>\n",
       "      <th>3</th>\n",
       "      <td>phon_R01_S01_4</td>\n",
       "      <td>116.676</td>\n",
       "      <td>137.871</td>\n",
       "      <td>111.366</td>\n",
       "      <td>0.00997</td>\n",
       "      <td>0.00009</td>\n",
       "      <td>0.00502</td>\n",
       "      <td>0.00698</td>\n",
       "      <td>0.01505</td>\n",
       "      <td>0.05492</td>\n",
       "      <td>...</td>\n",
       "      <td>0.08771</td>\n",
       "      <td>0.01353</td>\n",
       "      <td>20.644</td>\n",
       "      <td>1</td>\n",
       "      <td>0.434969</td>\n",
       "      <td>0.819235</td>\n",
       "      <td>-4.117501</td>\n",
       "      <td>0.334147</td>\n",
       "      <td>2.405554</td>\n",
       "      <td>0.368975</td>\n",
       "    </tr>\n",
       "    <tr>\n",
       "      <th>4</th>\n",
       "      <td>phon_R01_S01_5</td>\n",
       "      <td>116.014</td>\n",
       "      <td>141.781</td>\n",
       "      <td>110.655</td>\n",
       "      <td>0.01284</td>\n",
       "      <td>0.00011</td>\n",
       "      <td>0.00655</td>\n",
       "      <td>0.00908</td>\n",
       "      <td>0.01966</td>\n",
       "      <td>0.06425</td>\n",
       "      <td>...</td>\n",
       "      <td>0.10470</td>\n",
       "      <td>0.01767</td>\n",
       "      <td>19.649</td>\n",
       "      <td>1</td>\n",
       "      <td>0.417356</td>\n",
       "      <td>0.823484</td>\n",
       "      <td>-3.747787</td>\n",
       "      <td>0.234513</td>\n",
       "      <td>2.332180</td>\n",
       "      <td>0.410335</td>\n",
       "    </tr>\n",
       "  </tbody>\n",
       "</table>\n",
       "<p>5 rows × 24 columns</p>\n",
       "</div>"
      ],
      "text/plain": [
       "             name  MDVP:Fo(Hz)  MDVP:Fhi(Hz)  MDVP:Flo(Hz)  MDVP:Jitter(%)  \\\n",
       "0  phon_R01_S01_1      119.992       157.302        74.997         0.00784   \n",
       "1  phon_R01_S01_2      122.400       148.650       113.819         0.00968   \n",
       "2  phon_R01_S01_3      116.682       131.111       111.555         0.01050   \n",
       "3  phon_R01_S01_4      116.676       137.871       111.366         0.00997   \n",
       "4  phon_R01_S01_5      116.014       141.781       110.655         0.01284   \n",
       "\n",
       "   MDVP:Jitter(Abs)  MDVP:RAP  MDVP:PPQ  Jitter:DDP  MDVP:Shimmer  ...  \\\n",
       "0           0.00007   0.00370   0.00554     0.01109       0.04374  ...   \n",
       "1           0.00008   0.00465   0.00696     0.01394       0.06134  ...   \n",
       "2           0.00009   0.00544   0.00781     0.01633       0.05233  ...   \n",
       "3           0.00009   0.00502   0.00698     0.01505       0.05492  ...   \n",
       "4           0.00011   0.00655   0.00908     0.01966       0.06425  ...   \n",
       "\n",
       "   Shimmer:DDA      NHR     HNR  status      RPDE       DFA   spread1  \\\n",
       "0      0.06545  0.02211  21.033       1  0.414783  0.815285 -4.813031   \n",
       "1      0.09403  0.01929  19.085       1  0.458359  0.819521 -4.075192   \n",
       "2      0.08270  0.01309  20.651       1  0.429895  0.825288 -4.443179   \n",
       "3      0.08771  0.01353  20.644       1  0.434969  0.819235 -4.117501   \n",
       "4      0.10470  0.01767  19.649       1  0.417356  0.823484 -3.747787   \n",
       "\n",
       "    spread2        D2       PPE  \n",
       "0  0.266482  2.301442  0.284654  \n",
       "1  0.335590  2.486855  0.368674  \n",
       "2  0.311173  2.342259  0.332634  \n",
       "3  0.334147  2.405554  0.368975  \n",
       "4  0.234513  2.332180  0.410335  \n",
       "\n",
       "[5 rows x 24 columns]"
      ]
     },
     "execution_count": 3,
     "metadata": {},
     "output_type": "execute_result"
    }
   ],
   "source": [
    "df.head()"
   ]
  },
  {
   "cell_type": "code",
   "execution_count": 4,
   "id": "fitting-habitat",
   "metadata": {
    "execution": {
     "iopub.execute_input": "2021-06-11T19:09:34.941322Z",
     "iopub.status.busy": "2021-06-11T19:09:34.936755Z",
     "iopub.status.idle": "2021-06-11T19:09:35.001546Z",
     "shell.execute_reply": "2021-06-11T19:09:35.000519Z",
     "shell.execute_reply.started": "2021-06-11T19:07:41.946137Z"
    },
    "papermill": {
     "duration": 0.105216,
     "end_time": "2021-06-11T19:09:35.001703",
     "exception": false,
     "start_time": "2021-06-11T19:09:34.896487",
     "status": "completed"
    },
    "tags": []
   },
   "outputs": [
    {
     "data": {
      "text/html": [
       "<div>\n",
       "<style scoped>\n",
       "    .dataframe tbody tr th:only-of-type {\n",
       "        vertical-align: middle;\n",
       "    }\n",
       "\n",
       "    .dataframe tbody tr th {\n",
       "        vertical-align: top;\n",
       "    }\n",
       "\n",
       "    .dataframe thead th {\n",
       "        text-align: right;\n",
       "    }\n",
       "</style>\n",
       "<table border=\"1\" class=\"dataframe\">\n",
       "  <thead>\n",
       "    <tr style=\"text-align: right;\">\n",
       "      <th></th>\n",
       "      <th>MDVP:Fo(Hz)</th>\n",
       "      <th>MDVP:Fhi(Hz)</th>\n",
       "      <th>MDVP:Flo(Hz)</th>\n",
       "      <th>MDVP:Jitter(%)</th>\n",
       "      <th>MDVP:Jitter(Abs)</th>\n",
       "      <th>MDVP:RAP</th>\n",
       "      <th>MDVP:PPQ</th>\n",
       "      <th>Jitter:DDP</th>\n",
       "      <th>MDVP:Shimmer</th>\n",
       "      <th>MDVP:Shimmer(dB)</th>\n",
       "      <th>...</th>\n",
       "      <th>Shimmer:DDA</th>\n",
       "      <th>NHR</th>\n",
       "      <th>HNR</th>\n",
       "      <th>status</th>\n",
       "      <th>RPDE</th>\n",
       "      <th>DFA</th>\n",
       "      <th>spread1</th>\n",
       "      <th>spread2</th>\n",
       "      <th>D2</th>\n",
       "      <th>PPE</th>\n",
       "    </tr>\n",
       "  </thead>\n",
       "  <tbody>\n",
       "    <tr>\n",
       "      <th>count</th>\n",
       "      <td>195.000000</td>\n",
       "      <td>195.000000</td>\n",
       "      <td>195.000000</td>\n",
       "      <td>195.000000</td>\n",
       "      <td>195.000000</td>\n",
       "      <td>195.000000</td>\n",
       "      <td>195.000000</td>\n",
       "      <td>195.000000</td>\n",
       "      <td>195.000000</td>\n",
       "      <td>195.000000</td>\n",
       "      <td>...</td>\n",
       "      <td>195.000000</td>\n",
       "      <td>195.000000</td>\n",
       "      <td>195.000000</td>\n",
       "      <td>195.000000</td>\n",
       "      <td>195.000000</td>\n",
       "      <td>195.000000</td>\n",
       "      <td>195.000000</td>\n",
       "      <td>195.000000</td>\n",
       "      <td>195.000000</td>\n",
       "      <td>195.000000</td>\n",
       "    </tr>\n",
       "    <tr>\n",
       "      <th>mean</th>\n",
       "      <td>154.228641</td>\n",
       "      <td>197.104918</td>\n",
       "      <td>116.324631</td>\n",
       "      <td>0.006220</td>\n",
       "      <td>0.000044</td>\n",
       "      <td>0.003306</td>\n",
       "      <td>0.003446</td>\n",
       "      <td>0.009920</td>\n",
       "      <td>0.029709</td>\n",
       "      <td>0.282251</td>\n",
       "      <td>...</td>\n",
       "      <td>0.046993</td>\n",
       "      <td>0.024847</td>\n",
       "      <td>21.885974</td>\n",
       "      <td>0.753846</td>\n",
       "      <td>0.498536</td>\n",
       "      <td>0.718099</td>\n",
       "      <td>-5.684397</td>\n",
       "      <td>0.226510</td>\n",
       "      <td>2.381826</td>\n",
       "      <td>0.206552</td>\n",
       "    </tr>\n",
       "    <tr>\n",
       "      <th>std</th>\n",
       "      <td>41.390065</td>\n",
       "      <td>91.491548</td>\n",
       "      <td>43.521413</td>\n",
       "      <td>0.004848</td>\n",
       "      <td>0.000035</td>\n",
       "      <td>0.002968</td>\n",
       "      <td>0.002759</td>\n",
       "      <td>0.008903</td>\n",
       "      <td>0.018857</td>\n",
       "      <td>0.194877</td>\n",
       "      <td>...</td>\n",
       "      <td>0.030459</td>\n",
       "      <td>0.040418</td>\n",
       "      <td>4.425764</td>\n",
       "      <td>0.431878</td>\n",
       "      <td>0.103942</td>\n",
       "      <td>0.055336</td>\n",
       "      <td>1.090208</td>\n",
       "      <td>0.083406</td>\n",
       "      <td>0.382799</td>\n",
       "      <td>0.090119</td>\n",
       "    </tr>\n",
       "    <tr>\n",
       "      <th>min</th>\n",
       "      <td>88.333000</td>\n",
       "      <td>102.145000</td>\n",
       "      <td>65.476000</td>\n",
       "      <td>0.001680</td>\n",
       "      <td>0.000007</td>\n",
       "      <td>0.000680</td>\n",
       "      <td>0.000920</td>\n",
       "      <td>0.002040</td>\n",
       "      <td>0.009540</td>\n",
       "      <td>0.085000</td>\n",
       "      <td>...</td>\n",
       "      <td>0.013640</td>\n",
       "      <td>0.000650</td>\n",
       "      <td>8.441000</td>\n",
       "      <td>0.000000</td>\n",
       "      <td>0.256570</td>\n",
       "      <td>0.574282</td>\n",
       "      <td>-7.964984</td>\n",
       "      <td>0.006274</td>\n",
       "      <td>1.423287</td>\n",
       "      <td>0.044539</td>\n",
       "    </tr>\n",
       "    <tr>\n",
       "      <th>25%</th>\n",
       "      <td>117.572000</td>\n",
       "      <td>134.862500</td>\n",
       "      <td>84.291000</td>\n",
       "      <td>0.003460</td>\n",
       "      <td>0.000020</td>\n",
       "      <td>0.001660</td>\n",
       "      <td>0.001860</td>\n",
       "      <td>0.004985</td>\n",
       "      <td>0.016505</td>\n",
       "      <td>0.148500</td>\n",
       "      <td>...</td>\n",
       "      <td>0.024735</td>\n",
       "      <td>0.005925</td>\n",
       "      <td>19.198000</td>\n",
       "      <td>1.000000</td>\n",
       "      <td>0.421306</td>\n",
       "      <td>0.674758</td>\n",
       "      <td>-6.450096</td>\n",
       "      <td>0.174351</td>\n",
       "      <td>2.099125</td>\n",
       "      <td>0.137451</td>\n",
       "    </tr>\n",
       "    <tr>\n",
       "      <th>50%</th>\n",
       "      <td>148.790000</td>\n",
       "      <td>175.829000</td>\n",
       "      <td>104.315000</td>\n",
       "      <td>0.004940</td>\n",
       "      <td>0.000030</td>\n",
       "      <td>0.002500</td>\n",
       "      <td>0.002690</td>\n",
       "      <td>0.007490</td>\n",
       "      <td>0.022970</td>\n",
       "      <td>0.221000</td>\n",
       "      <td>...</td>\n",
       "      <td>0.038360</td>\n",
       "      <td>0.011660</td>\n",
       "      <td>22.085000</td>\n",
       "      <td>1.000000</td>\n",
       "      <td>0.495954</td>\n",
       "      <td>0.722254</td>\n",
       "      <td>-5.720868</td>\n",
       "      <td>0.218885</td>\n",
       "      <td>2.361532</td>\n",
       "      <td>0.194052</td>\n",
       "    </tr>\n",
       "    <tr>\n",
       "      <th>75%</th>\n",
       "      <td>182.769000</td>\n",
       "      <td>224.205500</td>\n",
       "      <td>140.018500</td>\n",
       "      <td>0.007365</td>\n",
       "      <td>0.000060</td>\n",
       "      <td>0.003835</td>\n",
       "      <td>0.003955</td>\n",
       "      <td>0.011505</td>\n",
       "      <td>0.037885</td>\n",
       "      <td>0.350000</td>\n",
       "      <td>...</td>\n",
       "      <td>0.060795</td>\n",
       "      <td>0.025640</td>\n",
       "      <td>25.075500</td>\n",
       "      <td>1.000000</td>\n",
       "      <td>0.587562</td>\n",
       "      <td>0.761881</td>\n",
       "      <td>-5.046192</td>\n",
       "      <td>0.279234</td>\n",
       "      <td>2.636456</td>\n",
       "      <td>0.252980</td>\n",
       "    </tr>\n",
       "    <tr>\n",
       "      <th>max</th>\n",
       "      <td>260.105000</td>\n",
       "      <td>592.030000</td>\n",
       "      <td>239.170000</td>\n",
       "      <td>0.033160</td>\n",
       "      <td>0.000260</td>\n",
       "      <td>0.021440</td>\n",
       "      <td>0.019580</td>\n",
       "      <td>0.064330</td>\n",
       "      <td>0.119080</td>\n",
       "      <td>1.302000</td>\n",
       "      <td>...</td>\n",
       "      <td>0.169420</td>\n",
       "      <td>0.314820</td>\n",
       "      <td>33.047000</td>\n",
       "      <td>1.000000</td>\n",
       "      <td>0.685151</td>\n",
       "      <td>0.825288</td>\n",
       "      <td>-2.434031</td>\n",
       "      <td>0.450493</td>\n",
       "      <td>3.671155</td>\n",
       "      <td>0.527367</td>\n",
       "    </tr>\n",
       "  </tbody>\n",
       "</table>\n",
       "<p>8 rows × 23 columns</p>\n",
       "</div>"
      ],
      "text/plain": [
       "       MDVP:Fo(Hz)  MDVP:Fhi(Hz)  MDVP:Flo(Hz)  MDVP:Jitter(%)  \\\n",
       "count   195.000000    195.000000    195.000000      195.000000   \n",
       "mean    154.228641    197.104918    116.324631        0.006220   \n",
       "std      41.390065     91.491548     43.521413        0.004848   \n",
       "min      88.333000    102.145000     65.476000        0.001680   \n",
       "25%     117.572000    134.862500     84.291000        0.003460   \n",
       "50%     148.790000    175.829000    104.315000        0.004940   \n",
       "75%     182.769000    224.205500    140.018500        0.007365   \n",
       "max     260.105000    592.030000    239.170000        0.033160   \n",
       "\n",
       "       MDVP:Jitter(Abs)    MDVP:RAP    MDVP:PPQ  Jitter:DDP  MDVP:Shimmer  \\\n",
       "count        195.000000  195.000000  195.000000  195.000000    195.000000   \n",
       "mean           0.000044    0.003306    0.003446    0.009920      0.029709   \n",
       "std            0.000035    0.002968    0.002759    0.008903      0.018857   \n",
       "min            0.000007    0.000680    0.000920    0.002040      0.009540   \n",
       "25%            0.000020    0.001660    0.001860    0.004985      0.016505   \n",
       "50%            0.000030    0.002500    0.002690    0.007490      0.022970   \n",
       "75%            0.000060    0.003835    0.003955    0.011505      0.037885   \n",
       "max            0.000260    0.021440    0.019580    0.064330      0.119080   \n",
       "\n",
       "       MDVP:Shimmer(dB)  ...  Shimmer:DDA         NHR         HNR      status  \\\n",
       "count        195.000000  ...   195.000000  195.000000  195.000000  195.000000   \n",
       "mean           0.282251  ...     0.046993    0.024847   21.885974    0.753846   \n",
       "std            0.194877  ...     0.030459    0.040418    4.425764    0.431878   \n",
       "min            0.085000  ...     0.013640    0.000650    8.441000    0.000000   \n",
       "25%            0.148500  ...     0.024735    0.005925   19.198000    1.000000   \n",
       "50%            0.221000  ...     0.038360    0.011660   22.085000    1.000000   \n",
       "75%            0.350000  ...     0.060795    0.025640   25.075500    1.000000   \n",
       "max            1.302000  ...     0.169420    0.314820   33.047000    1.000000   \n",
       "\n",
       "             RPDE         DFA     spread1     spread2          D2         PPE  \n",
       "count  195.000000  195.000000  195.000000  195.000000  195.000000  195.000000  \n",
       "mean     0.498536    0.718099   -5.684397    0.226510    2.381826    0.206552  \n",
       "std      0.103942    0.055336    1.090208    0.083406    0.382799    0.090119  \n",
       "min      0.256570    0.574282   -7.964984    0.006274    1.423287    0.044539  \n",
       "25%      0.421306    0.674758   -6.450096    0.174351    2.099125    0.137451  \n",
       "50%      0.495954    0.722254   -5.720868    0.218885    2.361532    0.194052  \n",
       "75%      0.587562    0.761881   -5.046192    0.279234    2.636456    0.252980  \n",
       "max      0.685151    0.825288   -2.434031    0.450493    3.671155    0.527367  \n",
       "\n",
       "[8 rows x 23 columns]"
      ]
     },
     "execution_count": 4,
     "metadata": {},
     "output_type": "execute_result"
    }
   ],
   "source": [
    "df.describe()"
   ]
  },
  {
   "cell_type": "code",
   "execution_count": 5,
   "id": "headed-psychiatry",
   "metadata": {
    "execution": {
     "iopub.execute_input": "2021-06-11T19:09:35.085940Z",
     "iopub.status.busy": "2021-06-11T19:09:35.082134Z",
     "iopub.status.idle": "2021-06-11T19:09:35.097686Z",
     "shell.execute_reply": "2021-06-11T19:09:35.097147Z",
     "shell.execute_reply.started": "2021-06-11T19:07:42.185711Z"
    },
    "papermill": {
     "duration": 0.059053,
     "end_time": "2021-06-11T19:09:35.097828",
     "exception": false,
     "start_time": "2021-06-11T19:09:35.038775",
     "status": "completed"
    },
    "tags": []
   },
   "outputs": [
    {
     "name": "stdout",
     "output_type": "stream",
     "text": [
      "<class 'pandas.core.frame.DataFrame'>\n",
      "RangeIndex: 195 entries, 0 to 194\n",
      "Data columns (total 24 columns):\n",
      " #   Column            Non-Null Count  Dtype  \n",
      "---  ------            --------------  -----  \n",
      " 0   name              195 non-null    object \n",
      " 1   MDVP:Fo(Hz)       195 non-null    float64\n",
      " 2   MDVP:Fhi(Hz)      195 non-null    float64\n",
      " 3   MDVP:Flo(Hz)      195 non-null    float64\n",
      " 4   MDVP:Jitter(%)    195 non-null    float64\n",
      " 5   MDVP:Jitter(Abs)  195 non-null    float64\n",
      " 6   MDVP:RAP          195 non-null    float64\n",
      " 7   MDVP:PPQ          195 non-null    float64\n",
      " 8   Jitter:DDP        195 non-null    float64\n",
      " 9   MDVP:Shimmer      195 non-null    float64\n",
      " 10  MDVP:Shimmer(dB)  195 non-null    float64\n",
      " 11  Shimmer:APQ3      195 non-null    float64\n",
      " 12  Shimmer:APQ5      195 non-null    float64\n",
      " 13  MDVP:APQ          195 non-null    float64\n",
      " 14  Shimmer:DDA       195 non-null    float64\n",
      " 15  NHR               195 non-null    float64\n",
      " 16  HNR               195 non-null    float64\n",
      " 17  status            195 non-null    int64  \n",
      " 18  RPDE              195 non-null    float64\n",
      " 19  DFA               195 non-null    float64\n",
      " 20  spread1           195 non-null    float64\n",
      " 21  spread2           195 non-null    float64\n",
      " 22  D2                195 non-null    float64\n",
      " 23  PPE               195 non-null    float64\n",
      "dtypes: float64(22), int64(1), object(1)\n",
      "memory usage: 36.7+ KB\n"
     ]
    }
   ],
   "source": [
    "df.info()"
   ]
  },
  {
   "cell_type": "code",
   "execution_count": 6,
   "id": "fourth-radiation",
   "metadata": {
    "execution": {
     "iopub.execute_input": "2021-06-11T19:09:35.179226Z",
     "iopub.status.busy": "2021-06-11T19:09:35.178628Z",
     "iopub.status.idle": "2021-06-11T19:09:35.183421Z",
     "shell.execute_reply": "2021-06-11T19:09:35.183875Z",
     "shell.execute_reply.started": "2021-06-11T19:07:42.208516Z"
    },
    "papermill": {
     "duration": 0.046942,
     "end_time": "2021-06-11T19:09:35.184065",
     "exception": false,
     "start_time": "2021-06-11T19:09:35.137123",
     "status": "completed"
    },
    "tags": []
   },
   "outputs": [
    {
     "data": {
      "text/plain": [
       "Index(['name', 'MDVP:Fo(Hz)', 'MDVP:Fhi(Hz)', 'MDVP:Flo(Hz)', 'MDVP:Jitter(%)',\n",
       "       'MDVP:Jitter(Abs)', 'MDVP:RAP', 'MDVP:PPQ', 'Jitter:DDP',\n",
       "       'MDVP:Shimmer', 'MDVP:Shimmer(dB)', 'Shimmer:APQ3', 'Shimmer:APQ5',\n",
       "       'MDVP:APQ', 'Shimmer:DDA', 'NHR', 'HNR', 'status', 'RPDE', 'DFA',\n",
       "       'spread1', 'spread2', 'D2', 'PPE'],\n",
       "      dtype='object')"
      ]
     },
     "execution_count": 6,
     "metadata": {},
     "output_type": "execute_result"
    }
   ],
   "source": [
    "df.columns"
   ]
  },
  {
   "cell_type": "markdown",
   "id": "realistic-battle",
   "metadata": {
    "papermill": {
     "duration": 0.040742,
     "end_time": "2021-06-11T19:09:35.262806",
     "exception": false,
     "start_time": "2021-06-11T19:09:35.222064",
     "status": "completed"
    },
    "tags": []
   },
   "source": [
    "# finding nan values"
   ]
  },
  {
   "cell_type": "code",
   "execution_count": 7,
   "id": "capital-brunswick",
   "metadata": {
    "execution": {
     "iopub.execute_input": "2021-06-11T19:09:35.342926Z",
     "iopub.status.busy": "2021-06-11T19:09:35.342298Z",
     "iopub.status.idle": "2021-06-11T19:09:35.595994Z",
     "shell.execute_reply": "2021-06-11T19:09:35.595397Z",
     "shell.execute_reply.started": "2021-06-11T19:07:42.221204Z"
    },
    "papermill": {
     "duration": 0.294561,
     "end_time": "2021-06-11T19:09:35.596132",
     "exception": false,
     "start_time": "2021-06-11T19:09:35.301571",
     "status": "completed"
    },
    "tags": []
   },
   "outputs": [
    {
     "data": {
      "text/plain": [
       "<AxesSubplot:>"
      ]
     },
     "execution_count": 7,
     "metadata": {},
     "output_type": "execute_result"
    },
    {
     "data": {
      "image/png": "[encoded data removed]",
      "text/plain": [
       "<Figure size 432x288 with 1 Axes>"
      ]
     },
     "metadata": {
      "needs_background": "light"
     },
     "output_type": "display_data"
    }
   ],
   "source": [
    "sns.heatmap(df.isnull(),yticklabels=False,cbar=False,cmap='viridis')"
   ]
  },
  {
   "cell_type": "markdown",
   "id": "minute-catch",
   "metadata": {
    "papermill": {
     "duration": 0.038101,
     "end_time": "2021-06-11T19:09:35.672940",
     "exception": false,
     "start_time": "2021-06-11T19:09:35.634839",
     "status": "completed"
    },
    "tags": []
   },
   "source": [
    "# cleaning data"
   ]
  },
  {
   "cell_type": "code",
   "execution_count": 8,
   "id": "executed-bandwidth",
   "metadata": {
    "execution": {
     "iopub.execute_input": "2021-06-11T19:09:35.755943Z",
     "iopub.status.busy": "2021-06-11T19:09:35.755390Z",
     "iopub.status.idle": "2021-06-11T19:09:35.757810Z",
     "shell.execute_reply": "2021-06-11T19:09:35.758208Z",
     "shell.execute_reply.started": "2021-06-11T19:07:42.518989Z"
    },
    "papermill": {
     "duration": 0.047104,
     "end_time": "2021-06-11T19:09:35.758428",
     "exception": false,
     "start_time": "2021-06-11T19:09:35.711324",
     "status": "completed"
    },
    "tags": []
   },
   "outputs": [],
   "source": [
    "df.drop(['name'],axis=1,inplace=True)"
   ]
  },
  {
   "cell_type": "code",
   "execution_count": 9,
   "id": "parliamentary-orbit",
   "metadata": {
    "execution": {
     "iopub.execute_input": "2021-06-11T19:09:35.841184Z",
     "iopub.status.busy": "2021-06-11T19:09:35.840611Z",
     "iopub.status.idle": "2021-06-11T19:09:35.845465Z",
     "shell.execute_reply": "2021-06-11T19:09:35.844956Z",
     "shell.execute_reply.started": "2021-06-11T19:07:42.527274Z"
    },
    "papermill": {
     "duration": 0.048656,
     "end_time": "2021-06-11T19:09:35.845599",
     "exception": false,
     "start_time": "2021-06-11T19:09:35.796943",
     "status": "completed"
    },
    "tags": []
   },
   "outputs": [],
   "source": [
    "df['status'] = df.status.astype(bool)"
   ]
  },
  {
   "cell_type": "markdown",
   "id": "danish-sheffield",
   "metadata": {
    "papermill": {
     "duration": 0.038968,
     "end_time": "2021-06-11T19:09:35.923154",
     "exception": false,
     "start_time": "2021-06-11T19:09:35.884186",
     "status": "completed"
    },
    "tags": []
   },
   "source": [
    "# finding relation"
   ]
  },
  {
   "cell_type": "code",
   "execution_count": 10,
   "id": "silver-absorption",
   "metadata": {
    "execution": {
     "iopub.execute_input": "2021-06-11T19:09:36.031881Z",
     "iopub.status.busy": "2021-06-11T19:09:36.024675Z",
     "iopub.status.idle": "2021-06-11T19:09:36.117559Z",
     "shell.execute_reply": "2021-06-11T19:09:36.117063Z",
     "shell.execute_reply.started": "2021-06-11T19:07:42.542464Z"
    },
    "papermill": {
     "duration": 0.155734,
     "end_time": "2021-06-11T19:09:36.117691",
     "exception": false,
     "start_time": "2021-06-11T19:09:35.961957",
     "status": "completed"
    },
    "tags": []
   },
   "outputs": [
    {
     "data": {
      "text/plain": [
       "<AxesSubplot:xlabel='status', ylabel='count'>"
      ]
     },
     "execution_count": 10,
     "metadata": {},
     "output_type": "execute_result"
    },
    {
     "data": {
      "image/png": "[encoded data removed]",
      "text/plain": [
       "<Figure size 432x288 with 1 Axes>"
      ]
     },
     "metadata": {
      "needs_background": "light"
     },
     "output_type": "display_data"
    }
   ],
   "source": [
    "sns.countplot(x = 'status',data=df)"
   ]
  },
  {
   "cell_type": "code",
   "execution_count": 11,
   "id": "universal-trust",
   "metadata": {
    "execution": {
     "iopub.execute_input": "2021-06-11T19:09:36.216436Z",
     "iopub.status.busy": "2021-06-11T19:09:36.214141Z",
     "iopub.status.idle": "2021-06-11T19:09:36.572181Z",
     "shell.execute_reply": "2021-06-11T19:09:36.572811Z",
     "shell.execute_reply.started": "2021-06-11T19:07:42.676847Z"
    },
    "papermill": {
     "duration": 0.415167,
     "end_time": "2021-06-11T19:09:36.572981",
     "exception": false,
     "start_time": "2021-06-11T19:09:36.157814",
     "status": "completed"
    },
    "tags": []
   },
   "outputs": [
    {
     "data": {
      "image/png": "[encoded data removed]",
      "text/plain": [
       "<Figure size 1080x504 with 3 Axes>"
      ]
     },
     "metadata": {
      "needs_background": "light"
     },
     "output_type": "display_data"
    }
   ],
   "source": [
    "a = ['MDVP:Fo(Hz)', 'MDVP:Fhi(Hz)', 'MDVP:Flo(Hz)']\n",
    "i = 1\n",
    "plt.figure(figsize=(15,7))\n",
    "for b in a:\n",
    "    plt.subplot(1,3,i)\n",
    "    sns.boxplot(y = b,data=df)\n",
    "    i+=1\n",
    "    plt.tight_layout()"
   ]
  },
  {
   "cell_type": "code",
   "execution_count": 12,
   "id": "effective-billion",
   "metadata": {
    "execution": {
     "iopub.execute_input": "2021-06-11T19:09:36.662600Z",
     "iopub.status.busy": "2021-06-11T19:09:36.661945Z",
     "iopub.status.idle": "2021-06-11T19:09:36.816635Z",
     "shell.execute_reply": "2021-06-11T19:09:36.817367Z",
     "shell.execute_reply.started": "2021-06-11T19:07:43.128494Z"
    },
    "papermill": {
     "duration": 0.200689,
     "end_time": "2021-06-11T19:09:36.817638",
     "exception": false,
     "start_time": "2021-06-11T19:09:36.616949",
     "status": "completed"
    },
    "tags": []
   },
   "outputs": [
    {
     "data": {
      "text/plain": [
       "<seaborn.axisgrid.FacetGrid at 0x7fadd2f2cc10>"
      ]
     },
     "execution_count": 12,
     "metadata": {},
     "output_type": "execute_result"
    },
    {
     "data": {
      "image/png": "[encoded data removed]",
      "text/plain": [
       "<Figure size 360x360 with 1 Axes>"
      ]
     },
     "metadata": {
      "needs_background": "light"
     },
     "output_type": "display_data"
    }
   ],
   "source": [
    "sns.catplot(x = 'status',y = 'MDVP:Fo(Hz)',data=df)"
   ]
  },
  {
   "cell_type": "markdown",
   "id": "breeding-there",
   "metadata": {
    "papermill": {
     "duration": 0.0408,
     "end_time": "2021-06-11T19:09:36.901368",
     "exception": false,
     "start_time": "2021-06-11T19:09:36.860568",
     "status": "completed"
    },
    "tags": []
   },
   "source": [
    "# Machine learning models"
   ]
  },
  {
   "cell_type": "markdown",
   "id": "german-afghanistan",
   "metadata": {
    "papermill": {
     "duration": 0.041012,
     "end_time": "2021-06-11T19:09:36.984400",
     "exception": false,
     "start_time": "2021-06-11T19:09:36.943388",
     "status": "completed"
    },
    "tags": []
   },
   "source": [
    "## k-nearest neighbors"
   ]
  },
  {
   "cell_type": "code",
   "execution_count": 13,
   "id": "corrected-albany",
   "metadata": {
    "execution": {
     "iopub.execute_input": "2021-06-11T19:09:37.069348Z",
     "iopub.status.busy": "2021-06-11T19:09:37.068668Z",
     "iopub.status.idle": "2021-06-11T19:09:37.245869Z",
     "shell.execute_reply": "2021-06-11T19:09:37.245215Z",
     "shell.execute_reply.started": "2021-06-11T19:07:43.368816Z"
    },
    "papermill": {
     "duration": 0.220625,
     "end_time": "2021-06-11T19:09:37.246021",
     "exception": false,
     "start_time": "2021-06-11T19:09:37.025396",
     "status": "completed"
    },
    "tags": []
   },
   "outputs": [],
   "source": [
    "from sklearn.preprocessing import StandardScaler"
   ]
  },
  {
   "cell_type": "code",
   "execution_count": 14,
   "id": "quality-positive",
   "metadata": {
    "execution": {
     "iopub.execute_input": "2021-06-11T19:09:37.333347Z",
     "iopub.status.busy": "2021-06-11T19:09:37.332662Z",
     "iopub.status.idle": "2021-06-11T19:09:37.395412Z",
     "shell.execute_reply": "2021-06-11T19:09:37.394531Z",
     "shell.execute_reply.started": "2021-06-11T19:07:43.374875Z"
    },
    "papermill": {
     "duration": 0.107891,
     "end_time": "2021-06-11T19:09:37.395588",
     "exception": false,
     "start_time": "2021-06-11T19:09:37.287697",
     "status": "completed"
    },
    "tags": []
   },
   "outputs": [],
   "source": [
    "from sklearn.model_selection import train_test_split\n",
    "X = df.drop('status',axis=1)"
   ]
  },
  {
   "cell_type": "code",
   "execution_count": 15,
   "id": "following-ticket",
   "metadata": {
    "execution": {
     "iopub.execute_input": "2021-06-11T19:09:37.483178Z",
     "iopub.status.busy": "2021-06-11T19:09:37.482356Z",
     "iopub.status.idle": "2021-06-11T19:09:37.485541Z",
     "shell.execute_reply": "2021-06-11T19:09:37.485083Z",
     "shell.execute_reply.started": "2021-06-11T19:07:43.391167Z"
    },
    "papermill": {
     "duration": 0.04833,
     "end_time": "2021-06-11T19:09:37.485707",
     "exception": false,
     "start_time": "2021-06-11T19:09:37.437377",
     "status": "completed"
    },
    "tags": []
   },
   "outputs": [],
   "source": [
    "scaler = StandardScaler()"
   ]
  },
  {
   "cell_type": "code",
   "execution_count": 16,
   "id": "reasonable-residence",
   "metadata": {
    "execution": {
     "iopub.execute_input": "2021-06-11T19:09:37.578014Z",
     "iopub.status.busy": "2021-06-11T19:09:37.577427Z",
     "iopub.status.idle": "2021-06-11T19:09:37.585039Z",
     "shell.execute_reply": "2021-06-11T19:09:37.585446Z",
     "shell.execute_reply.started": "2021-06-11T19:07:43.402760Z"
    },
    "papermill": {
     "duration": 0.058105,
     "end_time": "2021-06-11T19:09:37.585616",
     "exception": false,
     "start_time": "2021-06-11T19:09:37.527511",
     "status": "completed"
    },
    "tags": []
   },
   "outputs": [
    {
     "data": {
      "text/plain": [
       "StandardScaler()"
      ]
     },
     "execution_count": 16,
     "metadata": {},
     "output_type": "execute_result"
    }
   ],
   "source": [
    "scaler.fit(df.drop('status',axis=1))"
   ]
  },
  {
   "cell_type": "code",
   "execution_count": 17,
   "id": "guided-genre",
   "metadata": {
    "execution": {
     "iopub.execute_input": "2021-06-11T19:09:37.675372Z",
     "iopub.status.busy": "2021-06-11T19:09:37.674397Z",
     "iopub.status.idle": "2021-06-11T19:09:37.681405Z",
     "shell.execute_reply": "2021-06-11T19:09:37.681812Z",
     "shell.execute_reply.started": "2021-06-11T19:07:43.420542Z"
    },
    "papermill": {
     "duration": 0.054982,
     "end_time": "2021-06-11T19:09:37.682003",
     "exception": false,
     "start_time": "2021-06-11T19:09:37.627021",
     "status": "completed"
    },
    "tags": []
   },
   "outputs": [],
   "source": [
    "scaler_feature = scaler.transform(df.drop('status',axis=1))"
   ]
  },
  {
   "cell_type": "code",
   "execution_count": 18,
   "id": "laden-visibility",
   "metadata": {
    "execution": {
     "iopub.execute_input": "2021-06-11T19:09:37.770251Z",
     "iopub.status.busy": "2021-06-11T19:09:37.769400Z",
     "iopub.status.idle": "2021-06-11T19:09:37.773307Z",
     "shell.execute_reply": "2021-06-11T19:09:37.773718Z",
     "shell.execute_reply.started": "2021-06-11T19:07:43.437509Z"
    },
    "papermill": {
     "duration": 0.048716,
     "end_time": "2021-06-11T19:09:37.773887",
     "exception": false,
     "start_time": "2021-06-11T19:09:37.725171",
     "status": "completed"
    },
    "tags": []
   },
   "outputs": [],
   "source": [
    "df_feature = pd.DataFrame(scaler_feature,columns=X.columns)"
   ]
  },
  {
   "cell_type": "code",
   "execution_count": 19,
   "id": "egyptian-information",
   "metadata": {
    "execution": {
     "iopub.execute_input": "2021-06-11T19:09:37.860417Z",
     "iopub.status.busy": "2021-06-11T19:09:37.859539Z",
     "iopub.status.idle": "2021-06-11T19:09:37.881845Z",
     "shell.execute_reply": "2021-06-11T19:09:37.881300Z",
     "shell.execute_reply.started": "2021-06-11T19:07:43.450374Z"
    },
    "papermill": {
     "duration": 0.066928,
     "end_time": "2021-06-11T19:09:37.881987",
     "exception": false,
     "start_time": "2021-06-11T19:09:37.815059",
     "status": "completed"
    },
    "tags": []
   },
   "outputs": [
    {
     "data": {
      "text/html": [
       "<div>\n",
       "<style scoped>\n",
       "    .dataframe tbody tr th:only-of-type {\n",
       "        vertical-align: middle;\n",
       "    }\n",
       "\n",
       "    .dataframe tbody tr th {\n",
       "        vertical-align: top;\n",
       "    }\n",
       "\n",
       "    .dataframe thead th {\n",
       "        text-align: right;\n",
       "    }\n",
       "</style>\n",
       "<table border=\"1\" class=\"dataframe\">\n",
       "  <thead>\n",
       "    <tr style=\"text-align: right;\">\n",
       "      <th></th>\n",
       "      <th>MDVP:Fo(Hz)</th>\n",
       "      <th>MDVP:Fhi(Hz)</th>\n",
       "      <th>MDVP:Flo(Hz)</th>\n",
       "      <th>MDVP:Jitter(%)</th>\n",
       "      <th>MDVP:Jitter(Abs)</th>\n",
       "      <th>MDVP:RAP</th>\n",
       "      <th>MDVP:PPQ</th>\n",
       "      <th>Jitter:DDP</th>\n",
       "      <th>MDVP:Shimmer</th>\n",
       "      <th>MDVP:Shimmer(dB)</th>\n",
       "      <th>...</th>\n",
       "      <th>MDVP:APQ</th>\n",
       "      <th>Shimmer:DDA</th>\n",
       "      <th>NHR</th>\n",
       "      <th>HNR</th>\n",
       "      <th>RPDE</th>\n",
       "      <th>DFA</th>\n",
       "      <th>spread1</th>\n",
       "      <th>spread2</th>\n",
       "      <th>D2</th>\n",
       "      <th>PPE</th>\n",
       "    </tr>\n",
       "  </thead>\n",
       "  <tbody>\n",
       "    <tr>\n",
       "      <th>0</th>\n",
       "      <td>-0.829300</td>\n",
       "      <td>-0.436165</td>\n",
       "      <td>-0.952037</td>\n",
       "      <td>0.334914</td>\n",
       "      <td>0.749759</td>\n",
       "      <td>0.132963</td>\n",
       "      <td>0.760800</td>\n",
       "      <td>0.131755</td>\n",
       "      <td>0.745985</td>\n",
       "      <td>0.739536</td>\n",
       "      <td>...</td>\n",
       "      <td>0.332985</td>\n",
       "      <td>0.607532</td>\n",
       "      <td>-0.067893</td>\n",
       "      <td>-0.193225</td>\n",
       "      <td>-0.807838</td>\n",
       "      <td>1.760814</td>\n",
       "      <td>0.801323</td>\n",
       "      <td>0.480477</td>\n",
       "      <td>-0.210531</td>\n",
       "      <td>0.868886</td>\n",
       "    </tr>\n",
       "    <tr>\n",
       "      <th>1</th>\n",
       "      <td>-0.770972</td>\n",
       "      <td>-0.530974</td>\n",
       "      <td>-0.057721</td>\n",
       "      <td>0.715418</td>\n",
       "      <td>1.037674</td>\n",
       "      <td>0.453892</td>\n",
       "      <td>1.276809</td>\n",
       "      <td>0.452684</td>\n",
       "      <td>1.681731</td>\n",
       "      <td>1.768464</td>\n",
       "      <td>...</td>\n",
       "      <td>1.159454</td>\n",
       "      <td>1.548254</td>\n",
       "      <td>-0.137843</td>\n",
       "      <td>-0.634508</td>\n",
       "      <td>-0.387524</td>\n",
       "      <td>1.837562</td>\n",
       "      <td>1.479853</td>\n",
       "      <td>1.311185</td>\n",
       "      <td>0.275077</td>\n",
       "      <td>1.803605</td>\n",
       "    </tr>\n",
       "    <tr>\n",
       "      <th>2</th>\n",
       "      <td>-0.909476</td>\n",
       "      <td>-0.723168</td>\n",
       "      <td>-0.109875</td>\n",
       "      <td>0.884991</td>\n",
       "      <td>1.325589</td>\n",
       "      <td>0.720770</td>\n",
       "      <td>1.585687</td>\n",
       "      <td>0.721813</td>\n",
       "      <td>1.202693</td>\n",
       "      <td>1.027636</td>\n",
       "      <td>...</td>\n",
       "      <td>0.699187</td>\n",
       "      <td>1.175323</td>\n",
       "      <td>-0.291633</td>\n",
       "      <td>-0.279760</td>\n",
       "      <td>-0.662075</td>\n",
       "      <td>1.942048</td>\n",
       "      <td>1.141445</td>\n",
       "      <td>1.017682</td>\n",
       "      <td>-0.103629</td>\n",
       "      <td>1.402661</td>\n",
       "    </tr>\n",
       "    <tr>\n",
       "      <th>3</th>\n",
       "      <td>-0.909622</td>\n",
       "      <td>-0.649092</td>\n",
       "      <td>-0.114229</td>\n",
       "      <td>0.775389</td>\n",
       "      <td>1.325589</td>\n",
       "      <td>0.578885</td>\n",
       "      <td>1.284076</td>\n",
       "      <td>0.577677</td>\n",
       "      <td>1.340396</td>\n",
       "      <td>1.207698</td>\n",
       "      <td>...</td>\n",
       "      <td>0.806859</td>\n",
       "      <td>1.340229</td>\n",
       "      <td>-0.280719</td>\n",
       "      <td>-0.281346</td>\n",
       "      <td>-0.613134</td>\n",
       "      <td>1.832380</td>\n",
       "      <td>1.440945</td>\n",
       "      <td>1.293840</td>\n",
       "      <td>0.062145</td>\n",
       "      <td>1.806954</td>\n",
       "    </tr>\n",
       "    <tr>\n",
       "      <th>4</th>\n",
       "      <td>-0.925657</td>\n",
       "      <td>-0.606245</td>\n",
       "      <td>-0.130608</td>\n",
       "      <td>1.368893</td>\n",
       "      <td>1.901418</td>\n",
       "      <td>1.095750</td>\n",
       "      <td>2.047187</td>\n",
       "      <td>1.096793</td>\n",
       "      <td>1.836448</td>\n",
       "      <td>1.552389</td>\n",
       "      <td>...</td>\n",
       "      <td>1.216839</td>\n",
       "      <td>1.899461</td>\n",
       "      <td>-0.178026</td>\n",
       "      <td>-0.506745</td>\n",
       "      <td>-0.783021</td>\n",
       "      <td>1.909364</td>\n",
       "      <td>1.780940</td>\n",
       "      <td>0.096195</td>\n",
       "      <td>-0.130026</td>\n",
       "      <td>2.267082</td>\n",
       "    </tr>\n",
       "  </tbody>\n",
       "</table>\n",
       "<p>5 rows × 22 columns</p>\n",
       "</div>"
      ],
      "text/plain": [
       "   MDVP:Fo(Hz)  MDVP:Fhi(Hz)  MDVP:Flo(Hz)  MDVP:Jitter(%)  MDVP:Jitter(Abs)  \\\n",
       "0    -0.829300     -0.436165     -0.952037        0.334914          0.749759   \n",
       "1    -0.770972     -0.530974     -0.057721        0.715418          1.037674   \n",
       "2    -0.909476     -0.723168     -0.109875        0.884991          1.325589   \n",
       "3    -0.909622     -0.649092     -0.114229        0.775389          1.325589   \n",
       "4    -0.925657     -0.606245     -0.130608        1.368893          1.901418   \n",
       "\n",
       "   MDVP:RAP  MDVP:PPQ  Jitter:DDP  MDVP:Shimmer  MDVP:Shimmer(dB)  ...  \\\n",
       "0  0.132963  0.760800    0.131755      0.745985          0.739536  ...   \n",
       "1  0.453892  1.276809    0.452684      1.681731          1.768464  ...   \n",
       "2  0.720770  1.585687    0.721813      1.202693          1.027636  ...   \n",
       "3  0.578885  1.284076    0.577677      1.340396          1.207698  ...   \n",
       "4  1.095750  2.047187    1.096793      1.836448          1.552389  ...   \n",
       "\n",
       "   MDVP:APQ  Shimmer:DDA       NHR       HNR      RPDE       DFA   spread1  \\\n",
       "0  0.332985     0.607532 -0.067893 -0.193225 -0.807838  1.760814  0.801323   \n",
       "1  1.159454     1.548254 -0.137843 -0.634508 -0.387524  1.837562  1.479853   \n",
       "2  0.699187     1.175323 -0.291633 -0.279760 -0.662075  1.942048  1.141445   \n",
       "3  0.806859     1.340229 -0.280719 -0.281346 -0.613134  1.832380  1.440945   \n",
       "4  1.216839     1.899461 -0.178026 -0.506745 -0.783021  1.909364  1.780940   \n",
       "\n",
       "    spread2        D2       PPE  \n",
       "0  0.480477 -0.210531  0.868886  \n",
       "1  1.311185  0.275077  1.803605  \n",
       "2  1.017682 -0.103629  1.402661  \n",
       "3  1.293840  0.062145  1.806954  \n",
       "4  0.096195 -0.130026  2.267082  \n",
       "\n",
       "[5 rows x 22 columns]"
      ]
     },
     "execution_count": 19,
     "metadata": {},
     "output_type": "execute_result"
    }
   ],
   "source": [
    "df_feature.head()"
   ]
  },
  {
   "cell_type": "markdown",
   "id": "cathedral-singles",
   "metadata": {
    "papermill": {
     "duration": 0.042885,
     "end_time": "2021-06-11T19:09:37.966969",
     "exception": false,
     "start_time": "2021-06-11T19:09:37.924084",
     "status": "completed"
    },
    "tags": []
   },
   "source": [
    "# splitting of data"
   ]
  },
  {
   "cell_type": "code",
   "execution_count": 20,
   "id": "accepting-regulation",
   "metadata": {
    "execution": {
     "iopub.execute_input": "2021-06-11T19:09:38.055513Z",
     "iopub.status.busy": "2021-06-11T19:09:38.054820Z",
     "iopub.status.idle": "2021-06-11T19:09:38.060289Z",
     "shell.execute_reply": "2021-06-11T19:09:38.060772Z",
     "shell.execute_reply.started": "2021-06-11T19:07:43.486801Z"
    },
    "papermill": {
     "duration": 0.050635,
     "end_time": "2021-06-11T19:09:38.060942",
     "exception": false,
     "start_time": "2021-06-11T19:09:38.010307",
     "status": "completed"
    },
    "tags": []
   },
   "outputs": [],
   "source": [
    "X = df_feature\n",
    "y = df['status']\n",
    "X_train, X_test, y_train, y_test = train_test_split(X, y, test_size=0.33, random_state=42)"
   ]
  },
  {
   "cell_type": "code",
   "execution_count": 21,
   "id": "occupational-passport",
   "metadata": {
    "execution": {
     "iopub.execute_input": "2021-06-11T19:09:38.149409Z",
     "iopub.status.busy": "2021-06-11T19:09:38.148788Z",
     "iopub.status.idle": "2021-06-11T19:09:38.333821Z",
     "shell.execute_reply": "2021-06-11T19:09:38.333144Z",
     "shell.execute_reply.started": "2021-06-11T19:07:43.496186Z"
    },
    "papermill": {
     "duration": 0.230097,
     "end_time": "2021-06-11T19:09:38.333961",
     "exception": false,
     "start_time": "2021-06-11T19:09:38.103864",
     "status": "completed"
    },
    "tags": []
   },
   "outputs": [],
   "source": [
    "from sklearn.neighbors import KNeighborsClassifier"
   ]
  },
  {
   "cell_type": "markdown",
   "id": "coastal-quarterly",
   "metadata": {
    "papermill": {
     "duration": 0.041542,
     "end_time": "2021-06-11T19:09:38.417947",
     "exception": false,
     "start_time": "2021-06-11T19:09:38.376405",
     "status": "completed"
    },
    "tags": []
   },
   "source": [
    "# finding the best value for 'k'"
   ]
  },
  {
   "cell_type": "code",
   "execution_count": 22,
   "id": "reasonable-norway",
   "metadata": {
    "execution": {
     "iopub.execute_input": "2021-06-11T19:09:38.513942Z",
     "iopub.status.busy": "2021-06-11T19:09:38.513265Z",
     "iopub.status.idle": "2021-06-11T19:09:38.762490Z",
     "shell.execute_reply": "2021-06-11T19:09:38.761854Z",
     "shell.execute_reply.started": "2021-06-11T19:07:43.507875Z"
    },
    "papermill": {
     "duration": 0.30079,
     "end_time": "2021-06-11T19:09:38.762629",
     "exception": false,
     "start_time": "2021-06-11T19:09:38.461839",
     "status": "completed"
    },
    "tags": []
   },
   "outputs": [],
   "source": [
    "err_rate = []\n",
    "for i in range (1,40):\n",
    "    knn = KNeighborsClassifier(n_neighbors=i)\n",
    "    knn.fit(X_train,y_train)\n",
    "    predi = knn.predict(X_test)\n",
    "    err_rate.append(np.mean(predi != y_test))"
   ]
  },
  {
   "cell_type": "code",
   "execution_count": 23,
   "id": "instrumental-scanning",
   "metadata": {
    "execution": {
     "iopub.execute_input": "2021-06-11T19:09:38.865508Z",
     "iopub.status.busy": "2021-06-11T19:09:38.863580Z",
     "iopub.status.idle": "2021-06-11T19:09:39.002976Z",
     "shell.execute_reply": "2021-06-11T19:09:39.002375Z",
     "shell.execute_reply.started": "2021-06-11T19:07:43.810198Z"
    },
    "papermill": {
     "duration": 0.197725,
     "end_time": "2021-06-11T19:09:39.003123",
     "exception": false,
     "start_time": "2021-06-11T19:09:38.805398",
     "status": "completed"
    },
    "tags": []
   },
   "outputs": [
    {
     "data": {
      "text/plain": [
       "[<matplotlib.lines.Line2D at 0x7fadc38aa810>]"
      ]
     },
     "execution_count": 23,
     "metadata": {},
     "output_type": "execute_result"
    },
    {
     "data": {
      "image/png": "[encoded data removed]",
      "text/plain": [
       "<Figure size 720x432 with 1 Axes>"
      ]
     },
     "metadata": {
      "needs_background": "light"
     },
     "output_type": "display_data"
    }
   ],
   "source": [
    "plt.figure(figsize=(10,6))\n",
    "plt.grid()\n",
    "plt.plot(range(1,40),err_rate,color = 'blue',linestyle='--',marker='.',markerfacecolor='red',markersize=10)"
   ]
  },
  {
   "cell_type": "markdown",
   "id": "distinguished-sterling",
   "metadata": {
    "papermill": {
     "duration": 0.043449,
     "end_time": "2021-06-11T19:09:39.090077",
     "exception": false,
     "start_time": "2021-06-11T19:09:39.046628",
     "status": "completed"
    },
    "tags": []
   },
   "source": [
    "# prediction"
   ]
  },
  {
   "cell_type": "code",
   "execution_count": 24,
   "id": "minor-worcester",
   "metadata": {
    "execution": {
     "iopub.execute_input": "2021-06-11T19:09:39.186727Z",
     "iopub.status.busy": "2021-06-11T19:09:39.186097Z",
     "iopub.status.idle": "2021-06-11T19:09:39.191994Z",
     "shell.execute_reply": "2021-06-11T19:09:39.191503Z",
     "shell.execute_reply.started": "2021-06-11T19:07:43.991543Z"
    },
    "papermill": {
     "duration": 0.057995,
     "end_time": "2021-06-11T19:09:39.192139",
     "exception": false,
     "start_time": "2021-06-11T19:09:39.134144",
     "status": "completed"
    },
    "tags": []
   },
   "outputs": [],
   "source": [
    "knn = KNeighborsClassifier(n_neighbors=3)\n",
    "knn.fit(X_train,y_train)\n",
    "prediction = knn.predict(X_test)"
   ]
  },
  {
   "cell_type": "code",
   "execution_count": 25,
   "id": "favorite-passing",
   "metadata": {
    "execution": {
     "iopub.execute_input": "2021-06-11T19:09:39.284664Z",
     "iopub.status.busy": "2021-06-11T19:09:39.283756Z",
     "iopub.status.idle": "2021-06-11T19:09:39.287907Z",
     "shell.execute_reply": "2021-06-11T19:09:39.287365Z",
     "shell.execute_reply.started": "2021-06-11T19:07:44.006798Z"
    },
    "papermill": {
     "duration": 0.051878,
     "end_time": "2021-06-11T19:09:39.288047",
     "exception": false,
     "start_time": "2021-06-11T19:09:39.236169",
     "status": "completed"
    },
    "tags": []
   },
   "outputs": [
    {
     "data": {
      "text/plain": [
       "array([ True,  True,  True,  True,  True,  True,  True, False,  True,\n",
       "        True, False,  True,  True,  True,  True,  True,  True,  True,\n",
       "       False,  True,  True,  True,  True, False,  True,  True,  True,\n",
       "        True, False,  True,  True,  True,  True, False,  True, False,\n",
       "        True,  True, False,  True,  True,  True, False,  True,  True,\n",
       "        True, False,  True, False, False,  True,  True,  True,  True,\n",
       "        True,  True, False, False, False,  True, False, False,  True,\n",
       "        True,  True])"
      ]
     },
     "execution_count": 25,
     "metadata": {},
     "output_type": "execute_result"
    }
   ],
   "source": [
    "prediction"
   ]
  },
  {
   "cell_type": "markdown",
   "id": "complicated-postcard",
   "metadata": {
    "papermill": {
     "duration": 0.043812,
     "end_time": "2021-06-11T19:09:39.376282",
     "exception": false,
     "start_time": "2021-06-11T19:09:39.332470",
     "status": "completed"
    },
    "tags": []
   },
   "source": [
    "# evaluation of the model"
   ]
  },
  {
   "cell_type": "code",
   "execution_count": 26,
   "id": "excited-jaguar",
   "metadata": {
    "execution": {
     "iopub.execute_input": "2021-06-11T19:09:39.468186Z",
     "iopub.status.busy": "2021-06-11T19:09:39.467630Z",
     "iopub.status.idle": "2021-06-11T19:09:39.470225Z",
     "shell.execute_reply": "2021-06-11T19:09:39.469775Z",
     "shell.execute_reply.started": "2021-06-11T19:07:44.023681Z"
    },
    "papermill": {
     "duration": 0.049811,
     "end_time": "2021-06-11T19:09:39.470371",
     "exception": false,
     "start_time": "2021-06-11T19:09:39.420560",
     "status": "completed"
    },
    "tags": []
   },
   "outputs": [],
   "source": [
    "from sklearn.metrics import classification_report,confusion_matrix"
   ]
  },
  {
   "cell_type": "code",
   "execution_count": 27,
   "id": "worthy-detroit",
   "metadata": {
    "execution": {
     "iopub.execute_input": "2021-06-11T19:09:39.565449Z",
     "iopub.status.busy": "2021-06-11T19:09:39.564844Z",
     "iopub.status.idle": "2021-06-11T19:09:39.574136Z",
     "shell.execute_reply": "2021-06-11T19:09:39.574584Z",
     "shell.execute_reply.started": "2021-06-11T19:07:44.037692Z"
    },
    "papermill": {
     "duration": 0.060441,
     "end_time": "2021-06-11T19:09:39.574776",
     "exception": false,
     "start_time": "2021-06-11T19:09:39.514335",
     "status": "completed"
    },
    "tags": []
   },
   "outputs": [
    {
     "name": "stdout",
     "output_type": "stream",
     "text": [
      "Classification report\n",
      "              precision    recall  f1-score   support\n",
      "\n",
      "       False       0.88      0.88      0.88        17\n",
      "        True       0.96      0.96      0.96        48\n",
      "\n",
      "    accuracy                           0.94        65\n",
      "   macro avg       0.92      0.92      0.92        65\n",
      "weighted avg       0.94      0.94      0.94        65\n",
      "\n",
      "\n",
      "\n",
      "Confission matrix\n",
      "[[15  2]\n",
      " [ 2 46]]\n"
     ]
    }
   ],
   "source": [
    "print('Classification report')\n",
    "print(classification_report(y_test,prediction))\n",
    "print('\\n')\n",
    "print('Confission matrix')\n",
    "print(confusion_matrix(y_test,prediction))"
   ]
  },
  {
   "cell_type": "markdown",
   "id": "architectural-report",
   "metadata": {
    "papermill": {
     "duration": 0.04396,
     "end_time": "2021-06-11T19:09:39.663214",
     "exception": false,
     "start_time": "2021-06-11T19:09:39.619254",
     "status": "completed"
    },
    "tags": []
   },
   "source": [
    "# heatmap for confusion matrix  "
   ]
  },
  {
   "cell_type": "code",
   "execution_count": 28,
   "id": "closed-bradley",
   "metadata": {
    "execution": {
     "iopub.execute_input": "2021-06-11T19:09:39.754282Z",
     "iopub.status.busy": "2021-06-11T19:09:39.753405Z",
     "iopub.status.idle": "2021-06-11T19:09:39.966737Z",
     "shell.execute_reply": "2021-06-11T19:09:39.966174Z",
     "shell.execute_reply.started": "2021-06-11T19:07:44.059729Z"
    },
    "papermill": {
     "duration": 0.25967,
     "end_time": "2021-06-11T19:09:39.966868",
     "exception": false,
     "start_time": "2021-06-11T19:09:39.707198",
     "status": "completed"
    },
    "tags": []
   },
   "outputs": [
    {
     "data": {
      "text/plain": [
       "<AxesSubplot:>"
      ]
     },
     "execution_count": 28,
     "metadata": {},
     "output_type": "execute_result"
    },
    {
     "data": {
      "image/png": "[encoded data removed]",
      "text/plain": [
       "<Figure size 432x288 with 2 Axes>"
      ]
     },
     "metadata": {
      "needs_background": "light"
     },
     "output_type": "display_data"
    }
   ],
   "source": [
    "sns.heatmap(confusion_matrix(y_test,prediction),cmap='viridis')"
   ]
  },
  {
   "cell_type": "markdown",
   "id": "bottom-chosen",
   "metadata": {
    "papermill": {
     "duration": 0.043975,
     "end_time": "2021-06-11T19:09:40.055476",
     "exception": false,
     "start_time": "2021-06-11T19:09:40.011501",
     "status": "completed"
    },
    "tags": []
   },
   "source": [
    "# accuracy of the model"
   ]
  },
  {
   "cell_type": "code",
   "execution_count": 29,
   "id": "romance-dictionary",
   "metadata": {
    "execution": {
     "iopub.execute_input": "2021-06-11T19:09:40.152073Z",
     "iopub.status.busy": "2021-06-11T19:09:40.151472Z",
     "iopub.status.idle": "2021-06-11T19:09:40.154089Z",
     "shell.execute_reply": "2021-06-11T19:09:40.154519Z",
     "shell.execute_reply.started": "2021-06-11T19:07:44.291915Z"
    },
    "papermill": {
     "duration": 0.053743,
     "end_time": "2021-06-11T19:09:40.154676",
     "exception": false,
     "start_time": "2021-06-11T19:09:40.100933",
     "status": "completed"
    },
    "tags": []
   },
   "outputs": [
    {
     "name": "stdout",
     "output_type": "stream",
     "text": [
      "model accuracy is : 94.0 %\n"
     ]
    }
   ],
   "source": [
    "from sklearn.metrics import accuracy_score\n",
    "accuracy = accuracy_score(y_test,prediction)*100\n",
    "print(f'model accuracy is : {accuracy.round()} %')"
   ]
  },
  {
   "cell_type": "markdown",
   "id": "flexible-selling",
   "metadata": {
    "papermill": {
     "duration": 0.044577,
     "end_time": "2021-06-11T19:09:40.244550",
     "exception": false,
     "start_time": "2021-06-11T19:09:40.199973",
     "status": "completed"
    },
    "tags": []
   },
   "source": [
    "# LogisticRegression"
   ]
  },
  {
   "cell_type": "code",
   "execution_count": 30,
   "id": "rapid-cancellation",
   "metadata": {
    "execution": {
     "iopub.execute_input": "2021-06-11T19:09:40.339640Z",
     "iopub.status.busy": "2021-06-11T19:09:40.339000Z",
     "iopub.status.idle": "2021-06-11T19:09:40.341409Z",
     "shell.execute_reply": "2021-06-11T19:09:40.341787Z",
     "shell.execute_reply.started": "2021-06-11T19:07:44.304447Z"
    },
    "papermill": {
     "duration": 0.051768,
     "end_time": "2021-06-11T19:09:40.341964",
     "exception": false,
     "start_time": "2021-06-11T19:09:40.290196",
     "status": "completed"
    },
    "tags": []
   },
   "outputs": [],
   "source": [
    "from sklearn.linear_model import LogisticRegression"
   ]
  },
  {
   "cell_type": "code",
   "execution_count": 31,
   "id": "broke-gabriel",
   "metadata": {
    "execution": {
     "iopub.execute_input": "2021-06-11T19:09:40.436403Z",
     "iopub.status.busy": "2021-06-11T19:09:40.435798Z",
     "iopub.status.idle": "2021-06-11T19:09:40.438729Z",
     "shell.execute_reply": "2021-06-11T19:09:40.438270Z",
     "shell.execute_reply.started": "2021-06-11T19:07:44.313125Z"
    },
    "papermill": {
     "duration": 0.051918,
     "end_time": "2021-06-11T19:09:40.438859",
     "exception": false,
     "start_time": "2021-06-11T19:09:40.386941",
     "status": "completed"
    },
    "tags": []
   },
   "outputs": [],
   "source": [
    "logireg = LogisticRegression()"
   ]
  },
  {
   "cell_type": "code",
   "execution_count": 32,
   "id": "arbitrary-therapy",
   "metadata": {
    "execution": {
     "iopub.execute_input": "2021-06-11T19:09:40.534212Z",
     "iopub.status.busy": "2021-06-11T19:09:40.533657Z",
     "iopub.status.idle": "2021-06-11T19:09:40.536446Z",
     "shell.execute_reply": "2021-06-11T19:09:40.535775Z",
     "shell.execute_reply.started": "2021-06-11T19:07:44.326082Z"
    },
    "papermill": {
     "duration": 0.053089,
     "end_time": "2021-06-11T19:09:40.536577",
     "exception": false,
     "start_time": "2021-06-11T19:09:40.483488",
     "status": "completed"
    },
    "tags": []
   },
   "outputs": [],
   "source": [
    "X = df_feature\n",
    "y = df['status']\n",
    "X_train, X_test, y_train, y_test = train_test_split(X, y, test_size=0.33, random_state=42)"
   ]
  },
  {
   "cell_type": "code",
   "execution_count": 33,
   "id": "worst-peace",
   "metadata": {
    "execution": {
     "iopub.execute_input": "2021-06-11T19:09:40.635134Z",
     "iopub.status.busy": "2021-06-11T19:09:40.634532Z",
     "iopub.status.idle": "2021-06-11T19:09:40.650009Z",
     "shell.execute_reply": "2021-06-11T19:09:40.650494Z",
     "shell.execute_reply.started": "2021-06-11T19:07:44.342411Z"
    },
    "papermill": {
     "duration": 0.066216,
     "end_time": "2021-06-11T19:09:40.650712",
     "exception": false,
     "start_time": "2021-06-11T19:09:40.584496",
     "status": "completed"
    },
    "tags": []
   },
   "outputs": [
    {
     "data": {
      "text/plain": [
       "LogisticRegression()"
      ]
     },
     "execution_count": 33,
     "metadata": {},
     "output_type": "execute_result"
    }
   ],
   "source": [
    "logireg.fit(X_train,y_train)"
   ]
  },
  {
   "cell_type": "code",
   "execution_count": 34,
   "id": "about-things",
   "metadata": {
    "execution": {
     "iopub.execute_input": "2021-06-11T19:09:40.747116Z",
     "iopub.status.busy": "2021-06-11T19:09:40.746517Z",
     "iopub.status.idle": "2021-06-11T19:09:40.753003Z",
     "shell.execute_reply": "2021-06-11T19:09:40.752451Z",
     "shell.execute_reply.started": "2021-06-11T19:07:44.373607Z"
    },
    "papermill": {
     "duration": 0.054442,
     "end_time": "2021-06-11T19:09:40.753142",
     "exception": false,
     "start_time": "2021-06-11T19:09:40.698700",
     "status": "completed"
    },
    "tags": []
   },
   "outputs": [],
   "source": [
    "prediction_logi = logireg.predict(X_test)"
   ]
  },
  {
   "cell_type": "code",
   "execution_count": 35,
   "id": "royal-government",
   "metadata": {
    "execution": {
     "iopub.execute_input": "2021-06-11T19:09:40.851223Z",
     "iopub.status.busy": "2021-06-11T19:09:40.850294Z",
     "iopub.status.idle": "2021-06-11T19:09:40.855181Z",
     "shell.execute_reply": "2021-06-11T19:09:40.854653Z",
     "shell.execute_reply.started": "2021-06-11T19:07:44.382289Z"
    },
    "papermill": {
     "duration": 0.05344,
     "end_time": "2021-06-11T19:09:40.855364",
     "exception": false,
     "start_time": "2021-06-11T19:09:40.801924",
     "status": "completed"
    },
    "tags": []
   },
   "outputs": [
    {
     "data": {
      "text/plain": [
       "array([ True,  True,  True,  True,  True,  True,  True,  True,  True,\n",
       "        True,  True,  True,  True,  True,  True,  True,  True,  True,\n",
       "        True,  True,  True,  True,  True, False,  True,  True,  True,\n",
       "        True, False,  True,  True,  True,  True,  True,  True, False,\n",
       "        True,  True,  True,  True,  True,  True, False,  True,  True,\n",
       "        True, False,  True, False, False, False,  True,  True,  True,\n",
       "        True,  True, False,  True, False,  True, False,  True, False,\n",
       "        True, False])"
      ]
     },
     "execution_count": 35,
     "metadata": {},
     "output_type": "execute_result"
    }
   ],
   "source": [
    "prediction_logi"
   ]
  },
  {
   "cell_type": "code",
   "execution_count": 36,
   "id": "gothic-resistance",
   "metadata": {
    "execution": {
     "iopub.execute_input": "2021-06-11T19:09:40.957777Z",
     "iopub.status.busy": "2021-06-11T19:09:40.953436Z",
     "iopub.status.idle": "2021-06-11T19:09:40.961010Z",
     "shell.execute_reply": "2021-06-11T19:09:40.961459Z",
     "shell.execute_reply.started": "2021-06-11T19:07:44.399016Z"
    },
    "papermill": {
     "duration": 0.058288,
     "end_time": "2021-06-11T19:09:40.961628",
     "exception": false,
     "start_time": "2021-06-11T19:09:40.903340",
     "status": "completed"
    },
    "tags": []
   },
   "outputs": [
    {
     "name": "stdout",
     "output_type": "stream",
     "text": [
      "              precision    recall  f1-score   support\n",
      "\n",
      "       False       0.77      0.59      0.67        17\n",
      "        True       0.87      0.94      0.90        48\n",
      "\n",
      "    accuracy                           0.85        65\n",
      "   macro avg       0.82      0.76      0.78        65\n",
      "weighted avg       0.84      0.85      0.84        65\n",
      "\n"
     ]
    }
   ],
   "source": [
    "print(classification_report(y_test,prediction_logi))"
   ]
  },
  {
   "cell_type": "code",
   "execution_count": 37,
   "id": "essential-venue",
   "metadata": {
    "execution": {
     "iopub.execute_input": "2021-06-11T19:09:41.058182Z",
     "iopub.status.busy": "2021-06-11T19:09:41.057362Z",
     "iopub.status.idle": "2021-06-11T19:09:41.061484Z",
     "shell.execute_reply": "2021-06-11T19:09:41.060909Z",
     "shell.execute_reply.started": "2021-06-11T19:07:44.417045Z"
    },
    "papermill": {
     "duration": 0.054556,
     "end_time": "2021-06-11T19:09:41.061622",
     "exception": false,
     "start_time": "2021-06-11T19:09:41.007066",
     "status": "completed"
    },
    "tags": []
   },
   "outputs": [
    {
     "name": "stdout",
     "output_type": "stream",
     "text": [
      "[[10  7]\n",
      " [ 3 45]]\n"
     ]
    }
   ],
   "source": [
    "print(confusion_matrix(y_test,prediction_logi))"
   ]
  },
  {
   "cell_type": "code",
   "execution_count": 38,
   "id": "retained-hurricane",
   "metadata": {
    "execution": {
     "iopub.execute_input": "2021-06-11T19:09:41.173827Z",
     "iopub.status.busy": "2021-06-11T19:09:41.173178Z",
     "iopub.status.idle": "2021-06-11T19:09:41.359611Z",
     "shell.execute_reply": "2021-06-11T19:09:41.359034Z",
     "shell.execute_reply.started": "2021-06-11T19:07:44.430173Z"
    },
    "papermill": {
     "duration": 0.252003,
     "end_time": "2021-06-11T19:09:41.359757",
     "exception": false,
     "start_time": "2021-06-11T19:09:41.107754",
     "status": "completed"
    },
    "tags": []
   },
   "outputs": [
    {
     "data": {
      "text/plain": [
       "<AxesSubplot:>"
      ]
     },
     "execution_count": 38,
     "metadata": {},
     "output_type": "execute_result"
    },
    {
     "data": {
      "image/png": "[encoded data removed]",
      "text/plain": [
       "<Figure size 432x288 with 2 Axes>"
      ]
     },
     "metadata": {
      "needs_background": "light"
     },
     "output_type": "display_data"
    }
   ],
   "source": [
    "sns.heatmap(confusion_matrix(y_test,prediction_logi),cmap='viridis')"
   ]
  },
  {
   "cell_type": "code",
   "execution_count": 39,
   "id": "failing-height",
   "metadata": {
    "execution": {
     "iopub.execute_input": "2021-06-11T19:09:41.458595Z",
     "iopub.status.busy": "2021-06-11T19:09:41.457866Z",
     "iopub.status.idle": "2021-06-11T19:09:41.461848Z",
     "shell.execute_reply": "2021-06-11T19:09:41.461381Z",
     "shell.execute_reply.started": "2021-06-11T19:07:44.669727Z"
    },
    "papermill": {
     "duration": 0.055645,
     "end_time": "2021-06-11T19:09:41.461993",
     "exception": false,
     "start_time": "2021-06-11T19:09:41.406348",
     "status": "completed"
    },
    "tags": []
   },
   "outputs": [
    {
     "name": "stdout",
     "output_type": "stream",
     "text": [
      "model accuracy is : 85.0 %\n"
     ]
    }
   ],
   "source": [
    "from sklearn.metrics import accuracy_score\n",
    "accuracy = accuracy_score(y_test,prediction_logi)*100\n",
    "print(f'model accuracy is : {accuracy.round()} %')"
   ]
  },
  {
   "cell_type": "markdown",
   "id": "fabulous-inflation",
   "metadata": {
    "papermill": {
     "duration": 0.046597,
     "end_time": "2021-06-11T19:09:41.556750",
     "exception": false,
     "start_time": "2021-06-11T19:09:41.510153",
     "status": "completed"
    },
    "tags": []
   },
   "source": [
    "# DecisionTree"
   ]
  },
  {
   "cell_type": "code",
   "execution_count": 40,
   "id": "raised-landing",
   "metadata": {
    "execution": {
     "iopub.execute_input": "2021-06-11T19:09:41.659466Z",
     "iopub.status.busy": "2021-06-11T19:09:41.658560Z",
     "iopub.status.idle": "2021-06-11T19:09:41.661509Z",
     "shell.execute_reply": "2021-06-11T19:09:41.661029Z",
     "shell.execute_reply.started": "2021-06-11T19:07:44.679448Z"
    },
    "papermill": {
     "duration": 0.057094,
     "end_time": "2021-06-11T19:09:41.661660",
     "exception": false,
     "start_time": "2021-06-11T19:09:41.604566",
     "status": "completed"
    },
    "tags": []
   },
   "outputs": [],
   "source": [
    "X = df.drop('status',axis=1)\n",
    "y = df['status']\n",
    "X_train, X_test, y_train, y_test = train_test_split(X, y, test_size=0.33, random_state=42)"
   ]
  },
  {
   "cell_type": "code",
   "execution_count": 41,
   "id": "conservative-offer",
   "metadata": {
    "execution": {
     "iopub.execute_input": "2021-06-11T19:09:41.759530Z",
     "iopub.status.busy": "2021-06-11T19:09:41.758886Z",
     "iopub.status.idle": "2021-06-11T19:09:41.897218Z",
     "shell.execute_reply": "2021-06-11T19:09:41.896631Z",
     "shell.execute_reply.started": "2021-06-11T19:07:44.696778Z"
    },
    "papermill": {
     "duration": 0.188667,
     "end_time": "2021-06-11T19:09:41.897385",
     "exception": false,
     "start_time": "2021-06-11T19:09:41.708718",
     "status": "completed"
    },
    "tags": []
   },
   "outputs": [],
   "source": [
    "from sklearn.tree import DecisionTreeClassifier"
   ]
  },
  {
   "cell_type": "code",
   "execution_count": 42,
   "id": "fitting-hollow",
   "metadata": {
    "execution": {
     "iopub.execute_input": "2021-06-11T19:09:41.996013Z",
     "iopub.status.busy": "2021-06-11T19:09:41.995168Z",
     "iopub.status.idle": "2021-06-11T19:09:41.998159Z",
     "shell.execute_reply": "2021-06-11T19:09:41.997712Z",
     "shell.execute_reply.started": "2021-06-11T19:07:44.744626Z"
    },
    "papermill": {
     "duration": 0.053581,
     "end_time": "2021-06-11T19:09:41.998304",
     "exception": false,
     "start_time": "2021-06-11T19:09:41.944723",
     "status": "completed"
    },
    "tags": []
   },
   "outputs": [],
   "source": [
    "dtree = DecisionTreeClassifier()"
   ]
  },
  {
   "cell_type": "code",
   "execution_count": 43,
   "id": "utility-machinery",
   "metadata": {
    "execution": {
     "iopub.execute_input": "2021-06-11T19:09:42.096245Z",
     "iopub.status.busy": "2021-06-11T19:09:42.095627Z",
     "iopub.status.idle": "2021-06-11T19:09:42.103604Z",
     "shell.execute_reply": "2021-06-11T19:09:42.104283Z",
     "shell.execute_reply.started": "2021-06-11T19:07:44.751288Z"
    },
    "papermill": {
     "duration": 0.059006,
     "end_time": "2021-06-11T19:09:42.104470",
     "exception": false,
     "start_time": "2021-06-11T19:09:42.045464",
     "status": "completed"
    },
    "tags": []
   },
   "outputs": [
    {
     "data": {
      "text/plain": [
       "DecisionTreeClassifier()"
      ]
     },
     "execution_count": 43,
     "metadata": {},
     "output_type": "execute_result"
    }
   ],
   "source": [
    "dtree.fit(X_train,y_train)"
   ]
  },
  {
   "cell_type": "code",
   "execution_count": 44,
   "id": "improving-citizenship",
   "metadata": {
    "execution": {
     "iopub.execute_input": "2021-06-11T19:09:42.202194Z",
     "iopub.status.busy": "2021-06-11T19:09:42.201624Z",
     "iopub.status.idle": "2021-06-11T19:09:42.206993Z",
     "shell.execute_reply": "2021-06-11T19:09:42.207424Z",
     "shell.execute_reply.started": "2021-06-11T19:07:44.770325Z"
    },
    "papermill": {
     "duration": 0.055653,
     "end_time": "2021-06-11T19:09:42.207623",
     "exception": false,
     "start_time": "2021-06-11T19:09:42.151970",
     "status": "completed"
    },
    "tags": []
   },
   "outputs": [],
   "source": [
    "prediction = dtree.predict(X_test)"
   ]
  },
  {
   "cell_type": "code",
   "execution_count": 45,
   "id": "ruled-depth",
   "metadata": {
    "execution": {
     "iopub.execute_input": "2021-06-11T19:09:42.305492Z",
     "iopub.status.busy": "2021-06-11T19:09:42.304931Z",
     "iopub.status.idle": "2021-06-11T19:09:42.308966Z",
     "shell.execute_reply": "2021-06-11T19:09:42.309439Z",
     "shell.execute_reply.started": "2021-06-11T19:07:44.784769Z"
    },
    "papermill": {
     "duration": 0.054703,
     "end_time": "2021-06-11T19:09:42.309608",
     "exception": false,
     "start_time": "2021-06-11T19:09:42.254905",
     "status": "completed"
    },
    "tags": []
   },
   "outputs": [
    {
     "data": {
      "text/plain": [
       "array([ True,  True,  True,  True,  True,  True,  True,  True,  True,\n",
       "        True,  True,  True,  True,  True,  True,  True,  True, False,\n",
       "       False, False,  True,  True,  True, False,  True,  True,  True,\n",
       "        True, False,  True,  True,  True,  True, False,  True, False,\n",
       "        True,  True,  True,  True,  True,  True, False,  True,  True,\n",
       "        True,  True, False, False, False,  True,  True,  True,  True,\n",
       "        True,  True, False,  True, False, False, False, False,  True,\n",
       "        True,  True])"
      ]
     },
     "execution_count": 45,
     "metadata": {},
     "output_type": "execute_result"
    }
   ],
   "source": [
    "prediction"
   ]
  },
  {
   "cell_type": "code",
   "execution_count": 46,
   "id": "psychological-classification",
   "metadata": {
    "execution": {
     "iopub.execute_input": "2021-06-11T19:09:42.408244Z",
     "iopub.status.busy": "2021-06-11T19:09:42.407660Z",
     "iopub.status.idle": "2021-06-11T19:09:42.417881Z",
     "shell.execute_reply": "2021-06-11T19:09:42.417349Z",
     "shell.execute_reply.started": "2021-06-11T19:07:44.801244Z"
    },
    "papermill": {
     "duration": 0.06053,
     "end_time": "2021-06-11T19:09:42.418018",
     "exception": false,
     "start_time": "2021-06-11T19:09:42.357488",
     "status": "completed"
    },
    "tags": []
   },
   "outputs": [
    {
     "name": "stdout",
     "output_type": "stream",
     "text": [
      "Classification report\n",
      "              precision    recall  f1-score   support\n",
      "\n",
      "       False       0.81      0.76      0.79        17\n",
      "        True       0.92      0.94      0.93        48\n",
      "\n",
      "    accuracy                           0.89        65\n",
      "   macro avg       0.87      0.85      0.86        65\n",
      "weighted avg       0.89      0.89      0.89        65\n",
      "\n",
      "\n",
      "\n",
      "Confission matrix\n",
      "[[13  4]\n",
      " [ 3 45]]\n"
     ]
    }
   ],
   "source": [
    "print('Classification report')\n",
    "print(classification_report(y_test,prediction))\n",
    "print('\\n')\n",
    "print('Confission matrix')\n",
    "print(confusion_matrix(y_test,prediction))"
   ]
  },
  {
   "cell_type": "code",
   "execution_count": 47,
   "id": "premium-vancouver",
   "metadata": {
    "execution": {
     "iopub.execute_input": "2021-06-11T19:09:42.515103Z",
     "iopub.status.busy": "2021-06-11T19:09:42.514532Z",
     "iopub.status.idle": "2021-06-11T19:09:42.712916Z",
     "shell.execute_reply": "2021-06-11T19:09:42.713333Z",
     "shell.execute_reply.started": "2021-06-11T19:07:44.820861Z"
    },
    "papermill": {
     "duration": 0.248399,
     "end_time": "2021-06-11T19:09:42.713518",
     "exception": false,
     "start_time": "2021-06-11T19:09:42.465119",
     "status": "completed"
    },
    "tags": []
   },
   "outputs": [
    {
     "data": {
      "text/plain": [
       "<AxesSubplot:>"
      ]
     },
     "execution_count": 47,
     "metadata": {},
     "output_type": "execute_result"
    },
    {
     "data": {
      "image/png": "[encoded data removed]",
      "text/plain": [
       "<Figure size 432x288 with 2 Axes>"
      ]
     },
     "metadata": {
      "needs_background": "light"
     },
     "output_type": "display_data"
    }
   ],
   "source": [
    "sns.heatmap(confusion_matrix(y_test,prediction),cmap='viridis')"
   ]
  },
  {
   "cell_type": "code",
   "execution_count": 48,
   "id": "assured-angel",
   "metadata": {
    "execution": {
     "iopub.execute_input": "2021-06-11T19:09:42.817885Z",
     "iopub.status.busy": "2021-06-11T19:09:42.817069Z",
     "iopub.status.idle": "2021-06-11T19:09:42.819812Z",
     "shell.execute_reply": "2021-06-11T19:09:42.820249Z",
     "shell.execute_reply.started": "2021-06-11T19:07:45.051940Z"
    },
    "papermill": {
     "duration": 0.057376,
     "end_time": "2021-06-11T19:09:42.820411",
     "exception": false,
     "start_time": "2021-06-11T19:09:42.763035",
     "status": "completed"
    },
    "tags": []
   },
   "outputs": [
    {
     "name": "stdout",
     "output_type": "stream",
     "text": [
      "model accuracy is : 89.0 %\n"
     ]
    }
   ],
   "source": [
    "from sklearn.metrics import accuracy_score\n",
    "accuracy = accuracy_score(y_test,prediction)*100\n",
    "print(f'model accuracy is : {accuracy.round()} %')"
   ]
  },
  {
   "cell_type": "markdown",
   "id": "smaller-material",
   "metadata": {
    "papermill": {
     "duration": 0.048091,
     "end_time": "2021-06-11T19:09:42.916737",
     "exception": false,
     "start_time": "2021-06-11T19:09:42.868646",
     "status": "completed"
    },
    "tags": []
   },
   "source": [
    "# Random Forest"
   ]
  },
  {
   "cell_type": "code",
   "execution_count": 49,
   "id": "inclusive-country",
   "metadata": {
    "execution": {
     "iopub.execute_input": "2021-06-11T19:09:43.018998Z",
     "iopub.status.busy": "2021-06-11T19:09:43.018331Z",
     "iopub.status.idle": "2021-06-11T19:09:43.049644Z",
     "shell.execute_reply": "2021-06-11T19:09:43.050049Z",
     "shell.execute_reply.started": "2021-06-11T19:07:45.059677Z"
    },
    "papermill": {
     "duration": 0.08486,
     "end_time": "2021-06-11T19:09:43.050257",
     "exception": false,
     "start_time": "2021-06-11T19:09:42.965397",
     "status": "completed"
    },
    "tags": []
   },
   "outputs": [],
   "source": [
    "from sklearn.ensemble import RandomForestClassifier"
   ]
  },
  {
   "cell_type": "code",
   "execution_count": 50,
   "id": "turkish-student",
   "metadata": {
    "execution": {
     "iopub.execute_input": "2021-06-11T19:09:43.153639Z",
     "iopub.status.busy": "2021-06-11T19:09:43.152742Z",
     "iopub.status.idle": "2021-06-11T19:09:43.157330Z",
     "shell.execute_reply": "2021-06-11T19:09:43.156809Z",
     "shell.execute_reply.started": "2021-06-11T19:07:45.103879Z"
    },
    "papermill": {
     "duration": 0.05679,
     "end_time": "2021-06-11T19:09:43.157465",
     "exception": false,
     "start_time": "2021-06-11T19:09:43.100675",
     "status": "completed"
    },
    "tags": []
   },
   "outputs": [],
   "source": [
    "rfc = RandomForestClassifier()"
   ]
  },
  {
   "cell_type": "code",
   "execution_count": 51,
   "id": "existing-strategy",
   "metadata": {
    "execution": {
     "iopub.execute_input": "2021-06-11T19:09:43.266531Z",
     "iopub.status.busy": "2021-06-11T19:09:43.261040Z",
     "iopub.status.idle": "2021-06-11T19:09:43.395090Z",
     "shell.execute_reply": "2021-06-11T19:09:43.394590Z",
     "shell.execute_reply.started": "2021-06-11T19:07:45.110319Z"
    },
    "papermill": {
     "duration": 0.189216,
     "end_time": "2021-06-11T19:09:43.395223",
     "exception": false,
     "start_time": "2021-06-11T19:09:43.206007",
     "status": "completed"
    },
    "tags": []
   },
   "outputs": [
    {
     "data": {
      "text/plain": [
       "RandomForestClassifier()"
      ]
     },
     "execution_count": 51,
     "metadata": {},
     "output_type": "execute_result"
    }
   ],
   "source": [
    "rfc.fit(X_train,y_train)"
   ]
  },
  {
   "cell_type": "code",
   "execution_count": 52,
   "id": "satisfactory-salon",
   "metadata": {
    "execution": {
     "iopub.execute_input": "2021-06-11T19:09:43.507541Z",
     "iopub.status.busy": "2021-06-11T19:09:43.506589Z",
     "iopub.status.idle": "2021-06-11T19:09:43.517254Z",
     "shell.execute_reply": "2021-06-11T19:09:43.517695Z",
     "shell.execute_reply.started": "2021-06-11T19:07:45.317757Z"
    },
    "papermill": {
     "duration": 0.073507,
     "end_time": "2021-06-11T19:09:43.517859",
     "exception": false,
     "start_time": "2021-06-11T19:09:43.444352",
     "status": "completed"
    },
    "tags": []
   },
   "outputs": [],
   "source": [
    "prediction = rfc.predict(X_test)"
   ]
  },
  {
   "cell_type": "code",
   "execution_count": 53,
   "id": "reverse-vintage",
   "metadata": {
    "execution": {
     "iopub.execute_input": "2021-06-11T19:09:43.619842Z",
     "iopub.status.busy": "2021-06-11T19:09:43.619290Z",
     "iopub.status.idle": "2021-06-11T19:09:43.624593Z",
     "shell.execute_reply": "2021-06-11T19:09:43.624012Z",
     "shell.execute_reply.started": "2021-06-11T19:07:45.339621Z"
    },
    "papermill": {
     "duration": 0.058257,
     "end_time": "2021-06-11T19:09:43.624728",
     "exception": false,
     "start_time": "2021-06-11T19:09:43.566471",
     "status": "completed"
    },
    "tags": []
   },
   "outputs": [
    {
     "data": {
      "text/plain": [
       "array([ True,  True,  True,  True,  True,  True,  True,  True,  True,\n",
       "        True,  True,  True,  True,  True,  True,  True,  True,  True,\n",
       "       False,  True,  True,  True,  True, False,  True,  True,  True,\n",
       "        True, False,  True,  True,  True,  True, False,  True, False,\n",
       "        True,  True,  True,  True,  True,  True, False,  True,  True,\n",
       "        True, False,  True, False, False,  True,  True,  True,  True,\n",
       "        True,  True, False, False, False,  True, False, False,  True,\n",
       "        True,  True])"
      ]
     },
     "execution_count": 53,
     "metadata": {},
     "output_type": "execute_result"
    }
   ],
   "source": [
    "prediction"
   ]
  },
  {
   "cell_type": "code",
   "execution_count": 54,
   "id": "compatible-syndrome",
   "metadata": {
    "execution": {
     "iopub.execute_input": "2021-06-11T19:09:43.726009Z",
     "iopub.status.busy": "2021-06-11T19:09:43.725440Z",
     "iopub.status.idle": "2021-06-11T19:09:43.737376Z",
     "shell.execute_reply": "2021-06-11T19:09:43.738081Z",
     "shell.execute_reply.started": "2021-06-11T19:07:45.348392Z"
    },
    "papermill": {
     "duration": 0.064199,
     "end_time": "2021-06-11T19:09:43.738383",
     "exception": false,
     "start_time": "2021-06-11T19:09:43.674184",
     "status": "completed"
    },
    "tags": []
   },
   "outputs": [
    {
     "name": "stdout",
     "output_type": "stream",
     "text": [
      "Classification report\n",
      "              precision    recall  f1-score   support\n",
      "\n",
      "       False       1.00      0.82      0.90        17\n",
      "        True       0.94      1.00      0.97        48\n",
      "\n",
      "    accuracy                           0.95        65\n",
      "   macro avg       0.97      0.91      0.94        65\n",
      "weighted avg       0.96      0.95      0.95        65\n",
      "\n",
      "\n",
      "\n",
      "Confission matrix\n",
      "[[14  3]\n",
      " [ 0 48]]\n"
     ]
    }
   ],
   "source": [
    "print('Classification report')\n",
    "print(classification_report(y_test,prediction))\n",
    "print('\\n')\n",
    "print('Confission matrix')\n",
    "print(confusion_matrix(y_test,prediction))"
   ]
  },
  {
   "cell_type": "code",
   "execution_count": 55,
   "id": "recreational-fleet",
   "metadata": {
    "execution": {
     "iopub.execute_input": "2021-06-11T19:09:43.859009Z",
     "iopub.status.busy": "2021-06-11T19:09:43.858059Z",
     "iopub.status.idle": "2021-06-11T19:09:44.052693Z",
     "shell.execute_reply": "2021-06-11T19:09:44.052130Z",
     "shell.execute_reply.started": "2021-06-11T19:07:45.367289Z"
    },
    "papermill": {
     "duration": 0.263436,
     "end_time": "2021-06-11T19:09:44.052834",
     "exception": false,
     "start_time": "2021-06-11T19:09:43.789398",
     "status": "completed"
    },
    "tags": []
   },
   "outputs": [
    {
     "data": {
      "text/plain": [
       "<AxesSubplot:>"
      ]
     },
     "execution_count": 55,
     "metadata": {},
     "output_type": "execute_result"
    },
    {
     "data": {
      "image/png": "[encoded data removed]",
      "text/plain": [
       "<Figure size 432x288 with 2 Axes>"
      ]
     },
     "metadata": {
      "needs_background": "light"
     },
     "output_type": "display_data"
    }
   ],
   "source": [
    "sns.heatmap(confusion_matrix(y_test,prediction_logi),cmap='viridis')"
   ]
  },
  {
   "cell_type": "code",
   "execution_count": 56,
   "id": "russian-roulette",
   "metadata": {
    "execution": {
     "iopub.execute_input": "2021-06-11T19:09:44.158664Z",
     "iopub.status.busy": "2021-06-11T19:09:44.158046Z",
     "iopub.status.idle": "2021-06-11T19:09:44.160963Z",
     "shell.execute_reply": "2021-06-11T19:09:44.161987Z",
     "shell.execute_reply.started": "2021-06-11T19:07:45.603291Z"
    },
    "papermill": {
     "duration": 0.059478,
     "end_time": "2021-06-11T19:09:44.162224",
     "exception": false,
     "start_time": "2021-06-11T19:09:44.102746",
     "status": "completed"
    },
    "tags": []
   },
   "outputs": [
    {
     "name": "stdout",
     "output_type": "stream",
     "text": [
      "model accuracy is : 95.0 %\n"
     ]
    }
   ],
   "source": [
    "from sklearn.metrics import accuracy_score\n",
    "accuracy = accuracy_score(y_test,prediction)*100\n",
    "print(f'model accuracy is : {accuracy.round()} %')"
   ]
  },
  {
   "cell_type": "code",
   "execution_count": null,
   "id": "statistical-inventory",
   "metadata": {
    "papermill": {
     "duration": 0.050734,
     "end_time": "2021-06-11T19:09:44.264930",
     "exception": false,
     "start_time": "2021-06-11T19:09:44.214196",
     "status": "completed"
    },
    "tags": []
   },
   "outputs": [],
   "source": []
  }
 ],
 "metadata": {
  "kernelspec": {
   "display_name": "Python 3",
   "language": "python",
   "name": "python3"
  },
  "language_info": {
   "codemirror_mode": {
    "name": "ipython",
    "version": 3
   },
   "file_extension": ".py",
   "mimetype": "text/x-python",
   "name": "python",
   "nbconvert_exporter": "python",
   "pygments_lexer": "ipython3",
   "version": "3.7.9"
  },
  "papermill": {
   "default_parameters": {},
   "duration": 17.405102,
   "end_time": "2021-06-11T19:09:45.026051",
   "environment_variables": {},
   "exception": null,
   "input_path": "__notebook__.ipynb",
   "output_path": "__notebook__.ipynb",
   "parameters": {},
   "start_time": "2021-06-11T19:09:27.620949",
   "version": "2.3.2"
  }
 },
 "nbformat": 4,
 "nbformat_minor": 5
}
